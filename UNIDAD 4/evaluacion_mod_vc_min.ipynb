{
  "nbformat": 4,
  "nbformat_minor": 0,
  "metadata": {
    "colab": {
      "provenance": []
    },
    "kernelspec": {
      "name": "python3",
      "display_name": "Python 3"
    },
    "language_info": {
      "name": "python"
    }
  },
  "cells": [
    {
      "cell_type": "markdown",
      "source": [
        "# **Victor Cabrera**\n",
        "\n",
        "# **Marcos de Referencia**\n",
        "\n",
        "# **Veronica Chimbo**"
      ],
      "metadata": {
        "id": "ycVM878MRLO9"
      }
    },
    {
      "cell_type": "code",
      "execution_count": 37,
      "metadata": {
        "id": "1kALOgYxluVs"
      },
      "outputs": [],
      "source": [
        "# Importar bibliotecas necesarias\n",
        "import pandas as pd\n",
        "import numpy as np\n",
        "from sklearn.metrics import mean_squared_error, mean_absolute_error, r2_score\n",
        "from sklearn.model_selection import train_test_split\n",
        "from sklearn.linear_model import LinearRegression\n",
        "import matplotlib.pyplot as plt\n",
        "import seaborn as sns"
      ]
    },
    {
      "cell_type": "code",
      "source": [
        "# Datos de ejemplo para cada DataFrame\n",
        "df_estudiantes = pd.DataFrame({\n",
        "    'cedula': [1401416993, 1401416993, 1401416993, 1401416993, 107416927, 107416927, 106422496, 106422496, 106422496, 106422496, 106422496, 105467815,\n",
        "               105467815, 105467815, 105467815, 105467815, 105467815, 106605017, 106605017, 106605017, 302365440, 302365440, 302365440, 302365440,\n",
        "               107973687, 107973687, 107973687, 107973687, 107973687, 107973687, 107957144, 107957144, 107915126, 107915126, 107915126, 150564078, 150564078, 150564078],\n",
        "    'nombre': ['Maicol', 'Maicol', 'Maicol', 'Maicol', 'Jose', 'Jose','Paul', 'Paul', 'Paul', 'Paul', 'Paul', 'Ariel', 'Ariel', 'Ariel', 'Ariel', 'Ariel',\n",
        "               'Ariel', 'Carlos', 'Carlos', 'Carlos', 'Jhonatan', 'Jhonatan', 'Jhonatan', 'Jhonatan', 'Victor', 'Victor', 'Victor', 'Victor', 'Victor', 'Victor',\n",
        "               'Paula', 'Paula', 'Danny', 'Danny', 'Danny', 'Dany', 'Dany', 'Dany'],\n",
        "    'asignatura': ['Minería de Datos', 'Aprendizaje  Profundo', 'Marcos de Referencia', 'Inteligencia de negocios',\n",
        "                   'Minería de Datos', 'Aprendizaje Profundo',\n",
        "                   'Emprendimiento', 'Minería de Datos', 'Aprendizaje Profundo', 'Marcos de Referencia', 'Inteligencia de negocios',\n",
        "                   'Emprendimiento', 'Minería de Datos', 'Aprendizaje Profundo', 'Marcos de Referencia', 'Inteligencia de negocios', 'Etica Profecional',\n",
        "                   'Minería de Datos', 'Aprendizaje Profundo', 'Inteligencia de negocios',\n",
        "                   'Emprendimiento', 'Minería de Datos', 'Aprendizaje Profundo', 'Inteligencia de negocios',\n",
        "                   'Emprendimiento', 'Minería de Datos', 'Aprendizaje Profundo', 'Marcos de Referencia', 'Inteligencia de negocios', 'Etica Profecional',\n",
        "                   'Minería de Datos', 'Aprendizaje Profundo',\n",
        "                   'Minería de Datos', 'Aprendizaje Profundo', 'Inteligencia de negocios',\n",
        "                   'Minería de Datos', 'Aprendizaje Profundo', 'Marcos de Referencia'],\n",
        "\n",
        "    'nota_final': [9.24, 9.06, 9.32, 8.85, 9.71, 9.08, 9.17, 9.28, 9.15, 9.13, 8.25, 6.08, 9.28, 8.35, 6.17, 8.91, 10, 9.40, 8.71, 8.05, 9.77, 9.17, 7.64, 8.55, 9.11, 8.63, 8.68, 8.79, 8.45, 8.40, 9.24, 9.08, 8.74,\n",
        "                   8.39, 8.85, 8.53, 5.64, 5.91]\n",
        "})\n",
        "\n",
        "df_diagnostico = pd.DataFrame({\n",
        "    'cedula': [1401416993, 1401416993, 1401416993, 1401416993, 107416927, 107416927, 106422496, 106422496, 106422496, 106422496, 106422496, 105467815,\n",
        "               105467815, 105467815, 105467815, 105467815, 105467815, 106605017, 106605017, 106605017, 302365440, 302365440, 302365440, 302365440,\n",
        "               107973687, 107973687, 107973687, 107973687, 107973687, 107973687, 107957144, 107957144, 107915126, 107915126, 107915126, 150564078, 150564078, 150564078],\n",
        "    'nombre': ['Maicol', 'Maicol', 'Maicol', 'Maicol', 'Jose', 'Jose','Paul', 'Paul', 'Paul', 'Paul', 'Paul', 'Ariel', 'Ariel', 'Ariel', 'Ariel', 'Ariel',\n",
        "               'Ariel', 'Carlos', 'Carlos', 'Carlos', 'Jhonatan', 'Jhonatan', 'Jhonatan', 'Jhonatan', 'Victor', 'Victor', 'Victor', 'Victor', 'Victor', 'Victor',\n",
        "               'Paula', 'Paula', 'Danny', 'Danny', 'Danny', 'Dany', 'Dany', 'Dany'],\n",
        "    'asignatura': ['Minería de Datos', 'Aprendizaje  Profundo', 'Marcos de Referencia', 'Inteligencia de negocios',\n",
        "                   'Minería de Datos', 'Aprendizaje Profundo',\n",
        "                   'Emprendimiento', 'Minería de Datos', 'Aprendizaje Profundo', 'Marcos de Referencia', 'Inteligencia de negocios',\n",
        "                   'Emprendimiento', 'Minería de Datos', 'Aprendizaje Profundo', 'Marcos de Referencia', 'Inteligencia de negocios', 'Etica Profecional',\n",
        "                   'Minería de Datos', 'Aprendizaje Profundo', 'Inteligencia de negocios',\n",
        "                   'Emprendimiento', 'Minería de Datos', 'Aprendizaje Profundo', 'Inteligencia de negocios',\n",
        "                   'Emprendimiento', 'Minería de Datos', 'Aprendizaje Profundo', 'Marcos de Referencia', 'Inteligencia de negocios', 'Etica Profecional',\n",
        "                   'Minería de Datos', 'Aprendizaje Profundo',\n",
        "                   'Minería de Datos', 'Aprendizaje Profundo', 'Inteligencia de negocios',\n",
        "                   'Minería de Datos', 'Aprendizaje Profundo', 'Marcos de Referencia'],\n",
        "    'nota_diagnostico': [5.42, 8, 5.07, 8, 4.42, 0, 5, 6.4, 9, 6.53, 8, 3, 6.27, 9, 7, 10, 10, 5.43, 6, 8, 0, 0, 0, 0, 0, 5.22, 0, 5.5, 8, 10, 5.55, 0,\n",
        "                         4.89, 6, 10, 3.89, 0, 0 ]\n",
        "})\n",
        "\n",
        "df_interciclo = pd.DataFrame({\n",
        "    'cedula': [1401416993, 1401416993, 1401416993, 1401416993, 107416927, 107416927, 106422496, 106422496, 106422496, 106422496, 106422496, 105467815,\n",
        "               105467815, 105467815, 105467815, 105467815, 105467815, 106605017, 106605017, 106605017, 302365440, 302365440, 302365440, 302365440,\n",
        "               107973687, 107973687, 107973687, 107973687, 107973687, 107973687, 107957144, 107957144, 107915126, 107915126, 107915126, 150564078, 150564078, 150564078],\n",
        "    'nombre': ['Maicol', 'Maicol', 'Maicol', 'Maicol', 'Jose', 'Jose','Paul', 'Paul', 'Paul', 'Paul', 'Paul', 'Ariel', 'Ariel', 'Ariel', 'Ariel', 'Ariel',\n",
        "               'Ariel', 'Carlos', 'Carlos', 'Carlos', 'Jhonatan', 'Jhonatan', 'Jhonatan', 'Jhonatan', 'Victor', 'Victor', 'Victor', 'Victor', 'Victor', 'Victor',\n",
        "               'Paula', 'Paula', 'Danny', 'Danny', 'Danny', 'Dany', 'Dany', 'Dany'],\n",
        "    'asignatura': ['Minería de Datos', 'Aprendizaje  Profundo', 'Marcos de Referencia', 'Inteligencia de negocios',\n",
        "                   'Minería de Datos', 'Aprendizaje Profundo',\n",
        "                   'Emprendimiento', 'Minería de Datos', 'Aprendizaje Profundo', 'Marcos de Referencia', 'Inteligencia de negocios',\n",
        "                   'Emprendimiento', 'Minería de Datos', 'Aprendizaje Profundo', 'Marcos de Referencia', 'Inteligencia de negocios', 'Etica Profecional',\n",
        "                   'Minería de Datos', 'Aprendizaje Profundo', 'Inteligencia de negocios',\n",
        "                   'Emprendimiento', 'Minería de Datos', 'Aprendizaje Profundo', 'Inteligencia de negocios',\n",
        "                   'Emprendimiento', 'Minería de Datos', 'Aprendizaje Profundo', 'Marcos de Referencia', 'Inteligencia de negocios', 'Etica Profecional',\n",
        "                   'Minería de Datos', 'Aprendizaje Profundo',\n",
        "                   'Minería de Datos', 'Aprendizaje Profundo', 'Inteligencia de negocios',\n",
        "                   'Minería de Datos', 'Aprendizaje Profundo', 'Marcos de Referencia'],\n",
        "    'asistencia ': [95.04, 96.03, 97.02, 96.03, 98.01, 94.05, 95.58, 92.07, 96.03, 100.00, 93.06, 88.23, 94.05, 89.10, 98.01, 92.07, 85.29, 97.02, 95.04, 100.00,\n",
        "                   89.70,  93.06, 87.12, 84.15, 86.76, 96.03, 98.01, 98.01, 89.10, 79.41, 99.00, 93.06, 98.01, 86.13, 80.19, 89.10, 92.07, 97.02],\n",
        "    'nota_interciclo': [9.24, 9.06, 9.32, 8.85, 9.71, 9.08, 9.17, 9.28, 9.15, 9.13, 8.25, 6.08, 9.28, 8.35, 6.17, 8.91, 10, 9.40, 8.71, 8.05, 9.77, 9.17, 7.64, 8.55, 9.11, 8.63, 8.68, 8.79, 8.45, 8.40, 9.24, 9.08, 8.74,\n",
        "                   8.39, 8.85, 8.53, 5.64, 5.91]\n",
        "})\n",
        "\n",
        "df_final = pd.DataFrame({\n",
        "    'cedula': [1401416993, 1401416993, 1401416993, 1401416993, 107416927, 107416927, 106422496, 106422496, 106422496, 106422496, 106422496, 105467815,\n",
        "               105467815, 105467815, 105467815, 105467815, 105467815, 106605017, 106605017, 106605017, 302365440, 302365440, 302365440, 302365440,\n",
        "               107973687, 107973687, 107973687, 107973687, 107973687, 107973687, 107957144, 107957144, 107915126, 107915126, 107915126, 150564078, 150564078, 150564078],\n",
        "    'nombre': ['Maicol', 'Maicol', 'Maicol', 'Maicol', 'Jose', 'Jose','Paul', 'Paul', 'Paul', 'Paul', 'Paul', 'Ariel', 'Ariel', 'Ariel', 'Ariel', 'Ariel',\n",
        "               'Ariel', 'Carlos', 'Carlos', 'Carlos', 'Jhonatan', 'Jhonatan', 'Jhonatan', 'Jhonatan', 'Victor', 'Victor', 'Victor', 'Victor', 'Victor', 'Victor',\n",
        "               'Paula', 'Paula', 'Danny', 'Danny', 'Danny', 'Dany', 'Dany', 'Dany'],\n",
        "    'asignatura': ['Minería de Datos', 'Aprendizaje  Profundo', 'Marcos de Referencia', 'Inteligencia de negocios',\n",
        "                   'Minería de Datos', 'Aprendizaje Profundo',\n",
        "                   'Emprendimiento', 'Minería de Datos', 'Aprendizaje Profundo', 'Marcos de Referencia', 'Inteligencia de negocios',\n",
        "                   'Emprendimiento', 'Minería de Datos', 'Aprendizaje Profundo', 'Marcos de Referencia', 'Inteligencia de negocios', 'Etica Profecional',\n",
        "                   'Minería de Datos', 'Aprendizaje Profundo', 'Inteligencia de negocios',\n",
        "                   'Emprendimiento', 'Minería de Datos', 'Aprendizaje Profundo', 'Inteligencia de negocios',\n",
        "                   'Emprendimiento', 'Minería de Datos', 'Aprendizaje Profundo', 'Marcos de Referencia', 'Inteligencia de negocios', 'Etica Profecional',\n",
        "                   'Minería de Datos', 'Aprendizaje Profundo',\n",
        "                   'Minería de Datos', 'Aprendizaje Profundo', 'Inteligencia de negocios',\n",
        "                   'Minería de Datos', 'Aprendizaje Profundo', 'Marcos de Referencia'],\n",
        "    'asistencia': [95.04, 96.03, 97.02, 96.03, 98.01, 94.05, 95.58, 92.07, 96.03, 100.00, 93.06, 88.23, 94.05, 89.10, 98.01, 92.07, 85.29, 97.02, 95.04, 100.00,\n",
        "                   89.70,  93.06, 87.12, 84.15, 86.76, 96.03, 98.01, 98.01, 89.10, 79.41, 99.00, 93.06, 98.01, 86.13, 80.19, 89.10, 92.07, 97.02],\n",
        "    'nota_final2': [9.24, 9.06, 9.32, 8.85, 9.71, 9.08, 9.17, 9.28, 9.15, 9.13, 8.25, 6.08, 9.28, 8.35, 6.17, 8.91, 10, 9.40, 8.71, 8.05, 9.77, 9.17, 7.64, 8.55, 9.11, 8.63, 8.68, 8.79, 8.45, 8.40, 9.24, 9.08, 8.74,\n",
        "                   8.39, 8.85, 8.53, 5.64, 5.91]\n",
        "})\n",
        "# Realiza las uniones\n",
        "df_combined = df_estudiantes \\\n",
        "    .merge(df_diagnostico, on=['cedula', 'nombre', 'asignatura'], how='left') \\\n",
        "    .merge(df_interciclo, on=['cedula', 'nombre', 'asignatura'], how='left') \\\n",
        "    .merge(df_final, on=['cedula', 'nombre', 'asignatura'], how='left')"
      ],
      "metadata": {
        "id": "A5TQa-vNl05B"
      },
      "execution_count": 59,
      "outputs": []
    },
    {
      "cell_type": "code",
      "source": [
        "# Mostrar el DataFrame combinado\n",
        "print(\"DataFrame combinado:\")\n",
        "print(df_combined)"
      ],
      "metadata": {
        "id": "xKD8P7Jll02P",
        "colab": {
          "base_uri": "https://localhost:8080/"
        },
        "outputId": "05a0292e-5278-48eb-f919-a59c6df68372"
      },
      "execution_count": 60,
      "outputs": [
        {
          "output_type": "stream",
          "name": "stdout",
          "text": [
            "DataFrame combinado:\n",
            "        cedula    nombre                asignatura  nota_final  \\\n",
            "0   1401416993    Maicol          Minería de Datos        9.24   \n",
            "1   1401416993    Maicol     Aprendizaje  Profundo        9.06   \n",
            "2   1401416993    Maicol      Marcos de Referencia        9.32   \n",
            "3   1401416993    Maicol  Inteligencia de negocios        8.85   \n",
            "4    107416927      Jose          Minería de Datos        9.71   \n",
            "5    107416927      Jose      Aprendizaje Profundo        9.08   \n",
            "6    106422496      Paul            Emprendimiento        9.17   \n",
            "7    106422496      Paul          Minería de Datos        9.28   \n",
            "8    106422496      Paul      Aprendizaje Profundo        9.15   \n",
            "9    106422496      Paul      Marcos de Referencia        9.13   \n",
            "10   106422496      Paul  Inteligencia de negocios        8.25   \n",
            "11   105467815     Ariel            Emprendimiento        6.08   \n",
            "12   105467815     Ariel          Minería de Datos        9.28   \n",
            "13   105467815     Ariel      Aprendizaje Profundo        8.35   \n",
            "14   105467815     Ariel      Marcos de Referencia        6.17   \n",
            "15   105467815     Ariel  Inteligencia de negocios        8.91   \n",
            "16   105467815     Ariel         Etica Profecional       10.00   \n",
            "17   106605017    Carlos          Minería de Datos        9.40   \n",
            "18   106605017    Carlos      Aprendizaje Profundo        8.71   \n",
            "19   106605017    Carlos  Inteligencia de negocios        8.05   \n",
            "20   302365440  Jhonatan            Emprendimiento        9.77   \n",
            "21   302365440  Jhonatan          Minería de Datos        9.17   \n",
            "22   302365440  Jhonatan      Aprendizaje Profundo        7.64   \n",
            "23   302365440  Jhonatan  Inteligencia de negocios        8.55   \n",
            "24   107973687    Victor            Emprendimiento        9.11   \n",
            "25   107973687    Victor          Minería de Datos        8.63   \n",
            "26   107973687    Victor      Aprendizaje Profundo        8.68   \n",
            "27   107973687    Victor      Marcos de Referencia        8.79   \n",
            "28   107973687    Victor  Inteligencia de negocios        8.45   \n",
            "29   107973687    Victor         Etica Profecional        8.40   \n",
            "30   107957144     Paula          Minería de Datos        9.24   \n",
            "31   107957144     Paula      Aprendizaje Profundo        9.08   \n",
            "32   107915126     Danny          Minería de Datos        8.74   \n",
            "33   107915126     Danny      Aprendizaje Profundo        8.39   \n",
            "34   107915126     Danny  Inteligencia de negocios        8.85   \n",
            "35   150564078      Dany          Minería de Datos        8.53   \n",
            "36   150564078      Dany      Aprendizaje Profundo        5.64   \n",
            "37   150564078      Dany      Marcos de Referencia        5.91   \n",
            "\n",
            "    nota_diagnostico  asistencia   nota_interciclo  asistencia  nota_final2  \n",
            "0               5.42        95.04             9.24       95.04         9.24  \n",
            "1               8.00        96.03             9.06       96.03         9.06  \n",
            "2               5.07        97.02             9.32       97.02         9.32  \n",
            "3               8.00        96.03             8.85       96.03         8.85  \n",
            "4               4.42        98.01             9.71       98.01         9.71  \n",
            "5               0.00        94.05             9.08       94.05         9.08  \n",
            "6               5.00        95.58             9.17       95.58         9.17  \n",
            "7               6.40        92.07             9.28       92.07         9.28  \n",
            "8               9.00        96.03             9.15       96.03         9.15  \n",
            "9               6.53       100.00             9.13      100.00         9.13  \n",
            "10              8.00        93.06             8.25       93.06         8.25  \n",
            "11              3.00        88.23             6.08       88.23         6.08  \n",
            "12              6.27        94.05             9.28       94.05         9.28  \n",
            "13              9.00        89.10             8.35       89.10         8.35  \n",
            "14              7.00        98.01             6.17       98.01         6.17  \n",
            "15             10.00        92.07             8.91       92.07         8.91  \n",
            "16             10.00        85.29            10.00       85.29        10.00  \n",
            "17              5.43        97.02             9.40       97.02         9.40  \n",
            "18              6.00        95.04             8.71       95.04         8.71  \n",
            "19              8.00       100.00             8.05      100.00         8.05  \n",
            "20              0.00        89.70             9.77       89.70         9.77  \n",
            "21              0.00        93.06             9.17       93.06         9.17  \n",
            "22              0.00        87.12             7.64       87.12         7.64  \n",
            "23              0.00        84.15             8.55       84.15         8.55  \n",
            "24              0.00        86.76             9.11       86.76         9.11  \n",
            "25              5.22        96.03             8.63       96.03         8.63  \n",
            "26              0.00        98.01             8.68       98.01         8.68  \n",
            "27              5.50        98.01             8.79       98.01         8.79  \n",
            "28              8.00        89.10             8.45       89.10         8.45  \n",
            "29             10.00        79.41             8.40       79.41         8.40  \n",
            "30              5.55        99.00             9.24       99.00         9.24  \n",
            "31              0.00        93.06             9.08       93.06         9.08  \n",
            "32              4.89        98.01             8.74       98.01         8.74  \n",
            "33              6.00        86.13             8.39       86.13         8.39  \n",
            "34             10.00        80.19             8.85       80.19         8.85  \n",
            "35              3.89        89.10             8.53       89.10         8.53  \n",
            "36              0.00        92.07             5.64       92.07         5.64  \n",
            "37              0.00        97.02             5.91       97.02         5.91  \n"
          ]
        }
      ]
    },
    {
      "cell_type": "code",
      "source": [
        "# Preparar los datos para el modelo\n",
        "X = df_combined[['nota_final', 'nota_diagnostico', 'nota_interciclo']]\n",
        "y = df_combined['nota_final2']"
      ],
      "metadata": {
        "id": "J_lRvtALl0y7"
      },
      "execution_count": 40,
      "outputs": []
    },
    {
      "cell_type": "code",
      "source": [
        "# Dividir los datos en entrenamiento y prueba\n",
        "X_train, X_test, y_train, y_test = train_test_split(X, y, test_size=0.3, random_state=0)"
      ],
      "metadata": {
        "id": "sAJPOh5nl0vz"
      },
      "execution_count": 41,
      "outputs": []
    },
    {
      "cell_type": "code",
      "source": [
        "# Crear un modelo de regresión lineal\n",
        "model = LinearRegression()\n",
        "model.fit(X_train, y_train)"
      ],
      "metadata": {
        "id": "gLdY0ePil0s_",
        "colab": {
          "base_uri": "https://localhost:8080/",
          "height": 75
        },
        "outputId": "4e7b0061-ffa1-48d0-e422-17eda2fa6498"
      },
      "execution_count": 42,
      "outputs": [
        {
          "output_type": "execute_result",
          "data": {
            "text/plain": [
              "LinearRegression()"
            ],
            "text/html": [
              "<style>#sk-container-id-2 {color: black;}#sk-container-id-2 pre{padding: 0;}#sk-container-id-2 div.sk-toggleable {background-color: white;}#sk-container-id-2 label.sk-toggleable__label {cursor: pointer;display: block;width: 100%;margin-bottom: 0;padding: 0.3em;box-sizing: border-box;text-align: center;}#sk-container-id-2 label.sk-toggleable__label-arrow:before {content: \"▸\";float: left;margin-right: 0.25em;color: #696969;}#sk-container-id-2 label.sk-toggleable__label-arrow:hover:before {color: black;}#sk-container-id-2 div.sk-estimator:hover label.sk-toggleable__label-arrow:before {color: black;}#sk-container-id-2 div.sk-toggleable__content {max-height: 0;max-width: 0;overflow: hidden;text-align: left;background-color: #f0f8ff;}#sk-container-id-2 div.sk-toggleable__content pre {margin: 0.2em;color: black;border-radius: 0.25em;background-color: #f0f8ff;}#sk-container-id-2 input.sk-toggleable__control:checked~div.sk-toggleable__content {max-height: 200px;max-width: 100%;overflow: auto;}#sk-container-id-2 input.sk-toggleable__control:checked~label.sk-toggleable__label-arrow:before {content: \"▾\";}#sk-container-id-2 div.sk-estimator input.sk-toggleable__control:checked~label.sk-toggleable__label {background-color: #d4ebff;}#sk-container-id-2 div.sk-label input.sk-toggleable__control:checked~label.sk-toggleable__label {background-color: #d4ebff;}#sk-container-id-2 input.sk-hidden--visually {border: 0;clip: rect(1px 1px 1px 1px);clip: rect(1px, 1px, 1px, 1px);height: 1px;margin: -1px;overflow: hidden;padding: 0;position: absolute;width: 1px;}#sk-container-id-2 div.sk-estimator {font-family: monospace;background-color: #f0f8ff;border: 1px dotted black;border-radius: 0.25em;box-sizing: border-box;margin-bottom: 0.5em;}#sk-container-id-2 div.sk-estimator:hover {background-color: #d4ebff;}#sk-container-id-2 div.sk-parallel-item::after {content: \"\";width: 100%;border-bottom: 1px solid gray;flex-grow: 1;}#sk-container-id-2 div.sk-label:hover label.sk-toggleable__label {background-color: #d4ebff;}#sk-container-id-2 div.sk-serial::before {content: \"\";position: absolute;border-left: 1px solid gray;box-sizing: border-box;top: 0;bottom: 0;left: 50%;z-index: 0;}#sk-container-id-2 div.sk-serial {display: flex;flex-direction: column;align-items: center;background-color: white;padding-right: 0.2em;padding-left: 0.2em;position: relative;}#sk-container-id-2 div.sk-item {position: relative;z-index: 1;}#sk-container-id-2 div.sk-parallel {display: flex;align-items: stretch;justify-content: center;background-color: white;position: relative;}#sk-container-id-2 div.sk-item::before, #sk-container-id-2 div.sk-parallel-item::before {content: \"\";position: absolute;border-left: 1px solid gray;box-sizing: border-box;top: 0;bottom: 0;left: 50%;z-index: -1;}#sk-container-id-2 div.sk-parallel-item {display: flex;flex-direction: column;z-index: 1;position: relative;background-color: white;}#sk-container-id-2 div.sk-parallel-item:first-child::after {align-self: flex-end;width: 50%;}#sk-container-id-2 div.sk-parallel-item:last-child::after {align-self: flex-start;width: 50%;}#sk-container-id-2 div.sk-parallel-item:only-child::after {width: 0;}#sk-container-id-2 div.sk-dashed-wrapped {border: 1px dashed gray;margin: 0 0.4em 0.5em 0.4em;box-sizing: border-box;padding-bottom: 0.4em;background-color: white;}#sk-container-id-2 div.sk-label label {font-family: monospace;font-weight: bold;display: inline-block;line-height: 1.2em;}#sk-container-id-2 div.sk-label-container {text-align: center;}#sk-container-id-2 div.sk-container {/* jupyter's `normalize.less` sets `[hidden] { display: none; }` but bootstrap.min.css set `[hidden] { display: none !important; }` so we also need the `!important` here to be able to override the default hidden behavior on the sphinx rendered scikit-learn.org. See: https://github.com/scikit-learn/scikit-learn/issues/21755 */display: inline-block !important;position: relative;}#sk-container-id-2 div.sk-text-repr-fallback {display: none;}</style><div id=\"sk-container-id-2\" class=\"sk-top-container\"><div class=\"sk-text-repr-fallback\"><pre>LinearRegression()</pre><b>In a Jupyter environment, please rerun this cell to show the HTML representation or trust the notebook. <br />On GitHub, the HTML representation is unable to render, please try loading this page with nbviewer.org.</b></div><div class=\"sk-container\" hidden><div class=\"sk-item\"><div class=\"sk-estimator sk-toggleable\"><input class=\"sk-toggleable__control sk-hidden--visually\" id=\"sk-estimator-id-2\" type=\"checkbox\" checked><label for=\"sk-estimator-id-2\" class=\"sk-toggleable__label sk-toggleable__label-arrow\">LinearRegression</label><div class=\"sk-toggleable__content\"><pre>LinearRegression()</pre></div></div></div></div></div>"
            ]
          },
          "metadata": {},
          "execution_count": 42
        }
      ]
    },
    {
      "cell_type": "code",
      "source": [
        "# Realizar predicciones\n",
        "y_pred = model.predict(X_test)"
      ],
      "metadata": {
        "id": "uXDnHuSGl0qB"
      },
      "execution_count": 43,
      "outputs": []
    },
    {
      "cell_type": "markdown",
      "source": [
        "# **Error Cuadrático Medio (MSE)**\n",
        "Descripción: Mide el promedio de los cuadrados de los errores (diferencias entre valores predichos y reales). Penaliza los errores grandes más severamente."
      ],
      "metadata": {
        "id": "TpVzrSqUmHF3"
      }
    },
    {
      "cell_type": "code",
      "source": [
        "# Evaluar el modelo\n",
        "mse = mean_squared_error(y_test, y_pred)\n",
        "print(\"\\nEvaluación del modelo de regresión:\")\n",
        "print(f\"Error Cuadrático Medio (MSE): {mse:.2f}\")"
      ],
      "metadata": {
        "id": "YEmyLOR0l0nE",
        "colab": {
          "base_uri": "https://localhost:8080/"
        },
        "outputId": "b68fe468-20de-48ed-a61f-0f20e7de4046"
      },
      "execution_count": 44,
      "outputs": [
        {
          "output_type": "stream",
          "name": "stdout",
          "text": [
            "\n",
            "Evaluación del modelo de regresión:\n",
            "Error Cuadrático Medio (MSE): 0.00\n"
          ]
        }
      ]
    },
    {
      "cell_type": "markdown",
      "source": [
        "# **Interpretación:**\n",
        "Un MSE más bajo indica que el modelo está haciendo predicciones más cercanas a los valores reales."
      ],
      "metadata": {
        "id": "QXXR3IHhmM06"
      }
    },
    {
      "cell_type": "markdown",
      "source": [
        "# **Error Absoluto Medio (MAE)**\n",
        "**Descripción**: Mide el promedio de las diferencias absolutas entre valores predichos y reales. Es menos sensible a los errores grandes en comparación con el MSE."
      ],
      "metadata": {
        "id": "XljZBbU3mPEZ"
      }
    },
    {
      "cell_type": "code",
      "source": [
        "# Evaluar el modelo\n",
        "mae = mean_absolute_error(y_test, y_pred)\n",
        "print(\"\\nEvaluación del modelo de regresión:\")\n",
        "print(f\"Error Absoluto Medio (MAE): {mae:.2f}\")"
      ],
      "metadata": {
        "id": "rcrbYuOel0kG",
        "colab": {
          "base_uri": "https://localhost:8080/"
        },
        "outputId": "74f99358-63c1-48e7-bd62-5d6e8bb70a72"
      },
      "execution_count": 45,
      "outputs": [
        {
          "output_type": "stream",
          "name": "stdout",
          "text": [
            "\n",
            "Evaluación del modelo de regresión:\n",
            "Error Absoluto Medio (MAE): 0.00\n"
          ]
        }
      ]
    },
    {
      "cell_type": "markdown",
      "source": [
        "# **Interpretación:**\n",
        "Un MAE más bajo indica que el modelo está haciendo predicciones más precisas en promedio."
      ],
      "metadata": {
        "id": "NprG773MmS7X"
      }
    },
    {
      "cell_type": "markdown",
      "source": [
        "# **Coeficiente de Determinación (R²)**\n",
        "**Descripción:** Mide la proporción de la varianza en la variable dependiente que es explicada por el modelo. Varía entre 0 (sin explicación) y 1 (explicación perfecta)."
      ],
      "metadata": {
        "id": "QRe0TlZcmSx3"
      }
    },
    {
      "cell_type": "code",
      "source": [
        "# Evaluar el modelo\n",
        "r2 = r2_score(y_test, y_pred)"
      ],
      "metadata": {
        "id": "IZ3hxPHKl0hT"
      },
      "execution_count": 46,
      "outputs": []
    },
    {
      "cell_type": "code",
      "source": [
        "print(\"\\nEvaluación del modelo de regresión:\")\n",
        "print(f\"Coeficiente de Determinación (R²): {r2:.2f}\")"
      ],
      "metadata": {
        "id": "vE_pJ0zel0ee",
        "colab": {
          "base_uri": "https://localhost:8080/"
        },
        "outputId": "5da6e6f3-0b30-45d2-db50-938178d6f625"
      },
      "execution_count": 47,
      "outputs": [
        {
          "output_type": "stream",
          "name": "stdout",
          "text": [
            "\n",
            "Evaluación del modelo de regresión:\n",
            "Coeficiente de Determinación (R²): 1.00\n"
          ]
        }
      ]
    },
    {
      "cell_type": "markdown",
      "source": [
        "# **Interpretación:**\n",
        "Un R² más alto indica un mejor ajuste del modelo a los datos. Un R² negativo sugiere que el modelo es peor que un modelo simple que predice la media de los valores."
      ],
      "metadata": {
        "id": "-5UcpGfembuX"
      }
    },
    {
      "cell_type": "markdown",
      "source": [
        "#**Visualización de Predicciones vs. Valores Reales**\n",
        "**Descripción:** Un gráfico de dispersión para comparar las predicciones del modelo con los valores reales. La línea de referencia ayuda a visualizar cuán cerca están las predicciones de los valores reales."
      ],
      "metadata": {
        "id": "8SO0LOmZmdwy"
      }
    },
    {
      "cell_type": "code",
      "source": [
        "# Visualizar las predicciones vs. valores reales\n",
        "plt.figure(figsize=(10, 6))\n",
        "plt.scatter(y_test, y_pred, color='blue', label='Predicciones')\n",
        "plt.plot([y.min(), y.max()], [y.min(), y.max()], color='red', linestyle='--', label='Línea de referencia')\n",
        "plt.xlabel('Valores Reales')\n",
        "plt.ylabel('Valores Predichos')\n",
        "plt.title('Predicciones vs. Valores Reales')\n",
        "plt.legend()\n",
        "plt.show()"
      ],
      "metadata": {
        "id": "YTc32uV6l0bs",
        "colab": {
          "base_uri": "https://localhost:8080/",
          "height": 564
        },
        "outputId": "cc29ffe9-b9e7-48cd-bbb3-a61c76c65639"
      },
      "execution_count": 48,
      "outputs": [
        {
          "output_type": "display_data",
          "data": {
            "text/plain": [
              "<Figure size 1000x600 with 1 Axes>"
            ],
            "image/png": "[encoded data removed]"
          },
          "metadata": {}
        }
      ]
    },
    {
      "cell_type": "markdown",
      "source": [
        "## **Distribución de Errores**\n",
        "**Descripción:** Un histograma que muestra la distribución de los errores (diferencias entre valores reales y predicciones). La curva KDE (Kernel Density Estimate) ayuda a visualizar la forma de la distribución."
      ],
      "metadata": {
        "id": "1rJc6qOCmhb5"
      }
    },
    {
      "cell_type": "code",
      "source": [
        "# Visualizar la distribución de errores\n",
        "errors = y_test - y_pred\n",
        "plt.figure(figsize=(10, 6))\n",
        "sns.histplot(errors, kde=True)\n",
        "plt.xlabel('Error')\n",
        "plt.ylabel('Frecuencia')\n",
        "plt.title('Distribución de Errores')\n",
        "plt.show()"
      ],
      "metadata": {
        "id": "SQZJw6Jgmf_L",
        "colab": {
          "base_uri": "https://localhost:8080/",
          "height": 564
        },
        "outputId": "35246dea-b6aa-4427-9177-022953e82127"
      },
      "execution_count": 49,
      "outputs": [
        {
          "output_type": "display_data",
          "data": {
            "text/plain": [
              "<Figure size 1000x600 with 1 Axes>"
            ],
            "image/png": "[encoded data removed]"
          },
          "metadata": {}
        }
      ]
    },
    {
      "cell_type": "markdown",
      "source": [
        "## **Autoevaluación**\n",
        "\n",
        "**1. ¿Qué métrica mide el promedio de los cuadrados de los errores en las predicciones del modelo?**\n",
        "\n",
        "A) Error Absoluto Medio (MAE)\n",
        "\n",
        "**B) Error Cuadrático Medio (MSE)**\n",
        "\n",
        "C) Coeficiente de Determinación (R²)\n",
        "\n",
        "D) Error de Predicción\n",
        "\n",
        "**2. ¿Cuál es la interpretación de un valor bajo de MAE?**\n",
        "\n",
        "A) El modelo es poco preciso en promedio.\n",
        "\n",
        "B) El modelo tiene errores grandes en las predicciones.\n",
        "\n",
        "**C) El modelo es preciso en promedio.**\n",
        "\n",
        "D) El modelo explica muy bien la varianza en los datos.\n",
        "\n",
        "**3. ¿Qué indica un valor de R² igual a 1?**\n",
        "\n",
        "**A) El modelo no explica nada de la varianza en los datos.**\n",
        "\n",
        "B) El modelo tiene errores muy altos en las predicciones.\n",
        "\n",
        "C) El modelo explica perfectamente la varianza en los datos.\n",
        "\n",
        "D) El modelo tiene errores bajos, pero no explica bien los datos.\n",
        "\n",
        "**4. ¿Cuál es el propósito de dividir los datos en conjuntos de entrenamiento y prueba?**\n",
        "\n",
        "A) Para evaluar el rendimiento del modelo en datos no vistos.\n",
        "\n",
        "B) Para aumentar el tamaño del conjunto de datos.\n",
        "\n",
        "**C) Para realizar una normalización de datos.**\n",
        "\n",
        "D) Para combinar datos de diferentes fuentes.\n",
        "\n",
        "**5. En la visualización de 'Predicciones vs. Valores Reales', ¿qué representa la línea de referencia?**\n",
        "\n",
        "A) La línea de tendencia de los datos.\n",
        "\n",
        "B) La media de los valores reales.\n",
        "\n",
        "**C) La línea donde las predicciones serían perfectas.**\n",
        "\n",
        "D) La desviación estándar de los errores.\n",
        "\n",
        "**6. ¿Qué información proporciona el histograma de errores?**\n",
        "\n",
        "A) La distribución de los valores reales en el conjunto de datos.\n",
        "\n",
        "B) La relación entre las predicciones y los valores reales.\n",
        "\n",
        "**C) La distribución de las diferencias entre valores reales y predicciones.**\n",
        "\n",
        "D) La precisión del modelo en datos de entrenamiento.\n",
        "\n",
        "**7. ¿Qué métrica es menos sensible a errores grandes y proporciona un promedio simple de las diferencias absolutas?**\n",
        "\n",
        "A) Error Cuadrático Medio (MSE)\n",
        "\n",
        "**B) Error Absoluto Medio (MAE)**\n",
        "\n",
        "C) Coeficiente de Determinación (R²)\n",
        "\n",
        "D) Error de Predicción\n",
        "\n",
        "**8. ¿Cuál es la función principal de la biblioteca sklearn en el notebook?**\n",
        "\n",
        "A) Crear gráficos y visualizaciones.\n",
        "\n",
        "B) Preprocesar los datos.\n",
        "\n",
        "**C) Construir y evaluar modelos predictivos.**\n",
        "\n",
        "D) Leer y escribir archivos CSV.\n",
        "\n",
        "**9. ¿Qué función se utiliza para calcular el Error Cuadrático Medio en Python?**\n",
        "\n",
        "A) mean_absolute_error()\n",
        "\n",
        "B) r2_score()\n",
        "\n",
        "**C) mean_squared_error()**\n",
        "\n",
        "D) accuracy_score()\n",
        "\n",
        "**10. ¿Qué se está intentando predecir en el modelo de regresión lineal?**\n",
        "\n",
        "A) nota_final\n",
        "\n",
        "B) nota_diagnostico\n",
        "\n",
        "C) nota_interciclo\n",
        "\n",
        "**D) nota_final2**"
      ],
      "metadata": {
        "id": "lYJVp3JgmnXu"
      }
    }
  ]
}