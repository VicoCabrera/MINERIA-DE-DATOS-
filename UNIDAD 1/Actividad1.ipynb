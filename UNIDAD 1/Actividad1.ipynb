{
 "cells": [
  {
   "cell_type": "code",
   "execution_count": null,
   "id": "7b0d89b6-2a3c-4710-89f8-782ece1bf70e",
   "metadata": {},
   "outputs": [],
   "source": [
    "# PARTE 1. PROCESO DE ETL CON BASE DE DATOS\n",
    "\n",
    "### Nombre de la asignatura: Mineria de datos\n",
    "\n",
    "### Carrera: Big Data\n",
    "\n",
    "### Integrantes: Paula Gomez, Victor Cabrera y Maicol Lojano\n",
    "\n",
    "### Fecha: 26-4-2024\n",
    "\n",
    "### Objetivos de la Práctica:\n",
    "\n",
    "En la siguiente práctica se realizará el proceso de Extracción, Transformación y Carga de Datos.\n",
    "\n",
    "En primera instancia se debe de crear la estructura de la base de datos para ello se adjunta el script de la base de datos. En mysql cuyo nombre es: Dump20240109.ssql"
   ]
  },
  {
   "cell_type": "code",
   "execution_count": 2,
   "id": "2831de4a-a759-429f-a6e2-80b6f2694330",
   "metadata": {},
   "outputs": [
    {
     "name": "stdout",
     "output_type": "stream",
     "text": [
      "Defaulting to user installation because normal site-packages is not writeable\n",
      "Collecting mysql.connector\n",
      "  Using cached mysql-connector-2.2.9.tar.gz (11.9 MB)\n",
      "  Preparing metadata (setup.py): started\n",
      "  Preparing metadata (setup.py): finished with status 'error'\n"
     ]
    },
    {
     "name": "stderr",
     "output_type": "stream",
     "text": [
      "  ERROR: Error [WinError 225] No se pudo completar la operación porque el archivo contiene un virus o software potencialmente no deseado while executing command python setup.py egg_info\n",
      "ERROR: Could not install packages due to an OSError: [WinError 225] No se pudo completar la operación porque el archivo contiene un virus o software potencialmente no deseado\n",
      "\n"
     ]
    }
   ],
   "source": [
    "# Si no tenemos instalado la librería mysql.connector se debe de ejecutar la siguiente línea de comandos.\n",
    "\n",
    "!pip install mysql.connector"
   ]
  },
  {
   "cell_type": "code",
   "execution_count": 3,
   "id": "11fe10b1-dbba-45d0-add8-0245bd6fc42a",
   "metadata": {},
   "outputs": [
    {
     "name": "stdout",
     "output_type": "stream",
     "text": [
      "Defaulting to user installation because normal site-packages is not writeable\n",
      "Requirement already satisfied: xlrd in c:\\users\\zenbook\\appdata\\roaming\\python\\python311\\site-packages (2.0.1)\n",
      "Note: you may need to restart the kernel to use updated packages.\n"
     ]
    }
   ],
   "source": [
    "pip install xlrd"
   ]
  },
  {
   "cell_type": "code",
   "execution_count": 4,
   "id": "b6e1ab28-a07a-4c6b-9616-de668f50bea8",
   "metadata": {},
   "outputs": [
    {
     "name": "stdout",
     "output_type": "stream",
     "text": [
      "Defaulting to user installation because normal site-packages is not writeable\n",
      "Requirement already satisfied: mysql-connector-python in c:\\users\\zenbook\\appdata\\roaming\\python\\python311\\site-packages (8.3.0)\n",
      "Note: you may need to restart the kernel to use updated packages.\n"
     ]
    }
   ],
   "source": [
    "pip install --upgrade mysql-connector-python"
   ]
  },
  {
   "cell_type": "code",
   "execution_count": 5,
   "id": "de1c15be-dda4-4c40-8610-9c9341b72500",
   "metadata": {},
   "outputs": [],
   "source": [
    "#1. IMPORTAMOS LIBRERIAS NECESARIAS\n",
    "\n",
    "import mysql.connector\n",
    "import pandas as pd\n"
   ]
  },
  {
   "cell_type": "code",
   "execution_count": 23,
   "id": "4a35755b-8d32-4d5f-9654-84cd452abd24",
   "metadata": {},
   "outputs": [
    {
     "data": {
      "text/html": [
       "<div>\n",
       "<style scoped>\n",
       "    .dataframe tbody tr th:only-of-type {\n",
       "        vertical-align: middle;\n",
       "    }\n",
       "\n",
       "    .dataframe tbody tr th {\n",
       "        vertical-align: top;\n",
       "    }\n",
       "\n",
       "    .dataframe thead th {\n",
       "        text-align: right;\n",
       "    }\n",
       "</style>\n",
       "<table border=\"1\" class=\"dataframe\">\n",
       "  <thead>\n",
       "    <tr style=\"text-align: right;\">\n",
       "      <th></th>\n",
       "      <th>Placa</th>\n",
       "      <th>Clase</th>\n",
       "      <th>Marca</th>\n",
       "      <th>Año de fabricación del taxi</th>\n",
       "      <th>Categoría</th>\n",
       "      <th>Tipo taxi</th>\n",
       "    </tr>\n",
       "  </thead>\n",
       "  <tbody>\n",
       "    <tr>\n",
       "      <th>0</th>\n",
       "      <td>AP-000024</td>\n",
       "      <td>Taxi Aeropuerto</td>\n",
       "      <td>Toyota</td>\n",
       "      <td>1990</td>\n",
       "      <td>Automovil</td>\n",
       "      <td>Sedan</td>\n",
       "    </tr>\n",
       "    <tr>\n",
       "      <th>1</th>\n",
       "      <td>AP-000033</td>\n",
       "      <td>Taxi Aeropuerto</td>\n",
       "      <td>Nissan</td>\n",
       "      <td>1990</td>\n",
       "      <td>Automovil</td>\n",
       "      <td>Sedan</td>\n",
       "    </tr>\n",
       "    <tr>\n",
       "      <th>2</th>\n",
       "      <td>AP-000035</td>\n",
       "      <td>Taxi Aeropuerto</td>\n",
       "      <td>Nissan</td>\n",
       "      <td>1990</td>\n",
       "      <td>Automovil</td>\n",
       "      <td>Sedan</td>\n",
       "    </tr>\n",
       "    <tr>\n",
       "      <th>3</th>\n",
       "      <td>AP-000049</td>\n",
       "      <td>Taxi Aeropuerto</td>\n",
       "      <td>Volvo</td>\n",
       "      <td>1990</td>\n",
       "      <td>Automovil</td>\n",
       "      <td>Sedan</td>\n",
       "    </tr>\n",
       "    <tr>\n",
       "      <th>4</th>\n",
       "      <td>AP-000074</td>\n",
       "      <td>Taxi Aeropuerto</td>\n",
       "      <td>Nissan</td>\n",
       "      <td>1990</td>\n",
       "      <td>Automovil</td>\n",
       "      <td>Sedan</td>\n",
       "    </tr>\n",
       "  </tbody>\n",
       "</table>\n",
       "</div>"
      ],
      "text/plain": [
       "       Placa            Clase   Marca  Año de fabricación del taxi  Categoría  \\\n",
       "0  AP-000024  Taxi Aeropuerto  Toyota                         1990  Automovil   \n",
       "1  AP-000033  Taxi Aeropuerto  Nissan                         1990  Automovil   \n",
       "2  AP-000035  Taxi Aeropuerto  Nissan                         1990  Automovil   \n",
       "3  AP-000049  Taxi Aeropuerto   Volvo                         1990  Automovil   \n",
       "4  AP-000074  Taxi Aeropuerto  Nissan                         1990  Automovil   \n",
       "\n",
       "  Tipo taxi  \n",
       "0     Sedan  \n",
       "1     Sedan  \n",
       "2     Sedan  \n",
       "3     Sedan  \n",
       "4     Sedan  "
      ]
     },
     "execution_count": 23,
     "metadata": {},
     "output_type": "execute_result"
    }
   ],
   "source": [
    "# CARGAMOS LA DATA\n",
    "\n",
    "ruta_archivo_excel=\"Datos_Taxis.xls\"\n",
    "df=pd.read_excel(ruta_archivo_excel)\n",
    "df.head()"
   ]
  },
  {
   "cell_type": "code",
   "execution_count": 26,
   "id": "8a2a0185-4db8-468f-8313-658ff291f9ee",
   "metadata": {},
   "outputs": [],
   "source": [
    "# CONEXION A LA BASE DE DATOS\n",
    "\n",
    "# METODO PARA CONECTAR A LA BASE DE DATOS\n",
    "\n",
    "def establecer_conexion(host, user, password, database):\n",
    "  try:\n",
    "      conexion = mysql.connector.connect(\n",
    "          host = host,\n",
    "          user = user,\n",
    "          password = password,\n",
    "          database = database)\n",
    "      return conexion\n",
    "  except mysql.connector.Error as err:\n",
    "        print(f\"Error:{ err}\")\n",
    "        return None"
   ]
  },
  {
   "cell_type": "code",
   "execution_count": 27,
   "id": "a25cfbe9-0e17-48f7-b366-7ba15ac0236f",
   "metadata": {},
   "outputs": [
    {
     "data": {
      "text/plain": [
       "True"
      ]
     },
     "execution_count": 27,
     "metadata": {},
     "output_type": "execute_result"
    }
   ],
   "source": [
    "conexion = establecer_conexion(\"localhost\", \"root\", \"\", \"taxis\")\n",
    "#Comprobación de la conexión\n",
    "conexion.is_connected()"
   ]
  },
  {
   "cell_type": "code",
   "execution_count": 9,
   "id": "1af0ee38-5862-4fdf-9784-c2339f7ab165",
   "metadata": {},
   "outputs": [],
   "source": [
    "# ELIMINAR LOS DATOS DE LA BASE DE DATOS\n",
    "\n",
    "def eliminar_datos_base(conexion):\n",
    "    try:\n",
    "        # Desactivar las restricciones de clave externa para permitir la eliminación\n",
    "        #with conexion.cursor() as cursor:\n",
    "            #cursor.execute(\"SET FOREIGN_KEY_CHECKS=0;\")\n",
    "        cursor=conexion.cursor()\n",
    "        # Eliminar datos de las tablas\n",
    "        delete_queries = [\n",
    "            'DELETE FROM taxi;',\n",
    "            'DELETE FROM clase;',\n",
    "            'DELETE FROM marca;',\n",
    "            'DELETE FROM categoria;',\n",
    "            'DELETE FROM tipo_taxi;',\n",
    "            'DELETE FROM taxi_stg;'\n",
    "        ]\n",
    "\n",
    "        for query in delete_queries:\n",
    "            cursor.execute(query)\n",
    "\n",
    "        # Reiniciar los contadores de autoincremento\n",
    "        reset_auto_increment_queries = [\n",
    "            'ALTER TABLE clase AUTO_INCREMENT = 1;',\n",
    "            'ALTER TABLE marca AUTO_INCREMENT = 1;',\n",
    "            'ALTER TABLE marca AUTO_INCREMENT = 1;',\n",
    "            'ALTER TABLE categoria AUTO_INCREMENT = 1;',\n",
    "            'ALTER TABLE tipo_taxi AUTO_INCREMENT = 1;',\n",
    "            'ALTER TABLE taxi_stg AUTO_INCREMENT = 1;'\n",
    "        ]\n",
    "\n",
    "        for query in reset_auto_increment_queries:\n",
    "            cursor.execute(query)\n",
    "\n",
    "        # Confirmar los cambios\n",
    "        conexion.commit()\n",
    "\n",
    "        print(\"Base de datos limpiada exitosamente.\")\n",
    "\n",
    "    except Exception as e:\n",
    "        print(f\"Error al limpiar la base de datos: {e}\")\n",
    "\n",
    "    finally:\n",
    "        # Reactivar las restricciones de clave externa\n",
    "        print(\".....\")"
   ]
  },
  {
   "cell_type": "code",
   "execution_count": 10,
   "id": "438d0515-8ead-430f-9980-780384aa8227",
   "metadata": {},
   "outputs": [
    {
     "name": "stdout",
     "output_type": "stream",
     "text": [
      "Base de datos limpiada exitosamente.\n",
      ".....\n"
     ]
    }
   ],
   "source": [
    "eliminar_datos_base(conexion)"
   ]
  },
  {
   "cell_type": "code",
   "execution_count": 11,
   "id": "e0ab8747-9dec-46da-8033-19f82ccdbebd",
   "metadata": {},
   "outputs": [],
   "source": [
    "# INSERTAR DATOS EN LA TABLA TAXI_STG\n",
    "\n",
    "def insert_taxi_stg(conexion, df):\n",
    "    cursor = conexion.cursor()\n",
    "\n",
    "    insert_query = \"INSERT INTO taxi_stg(placa,clase,marca, ano_fabricacion,categoria,tipo_taxi) VALUES (%s, %s, %s, %s, %s, %s)\"\n",
    "\n",
    "    try:\n",
    "        for index, row in df.iterrows():\n",
    "            taxi_data = (row['Placa'], row['Clase'], row['Marca'], row['Año de fabricación del taxi'], row['Categoría'], row['Tipo taxi'])\n",
    "            cursor.execute(insert_query, taxi_data)\n",
    "\n",
    "        conexion.commit()\n",
    "        print(f\"Datos insertados correctamente\")\n",
    "\n",
    "    except Exception as e:\n",
    "        print(f\"Error al insertar datos: {e}\")\n",
    "\n",
    "    finally:\n",
    "        cursor.close()"
   ]
  },
  {
   "cell_type": "code",
   "execution_count": 12,
   "id": "833cc403-f2ae-4df7-8fa1-50d67aa60cd1",
   "metadata": {},
   "outputs": [
    {
     "name": "stdout",
     "output_type": "stream",
     "text": [
      "Datos insertados correctamente\n"
     ]
    }
   ],
   "source": [
    "insert_taxi_stg(conexion, df)"
   ]
  },
  {
   "cell_type": "code",
   "execution_count": 14,
   "id": "efe7e9d0-bdb1-4509-b8f4-601a0d82287d",
   "metadata": {},
   "outputs": [],
   "source": [
    "# LIMPIAR DATOS INNECESARIOS DE TAXI\n",
    "\n",
    "def limpiar_datos_taxi_stg(conexion):\n",
    "    try:\n",
    "        # Desactivar las restricciones de clave externa para permitir la eliminación\n",
    "        with conexion.cursor() as cursor:\n",
    "            cursor.execute(\"SET FOREIGN_KEY_CHECKS=0;\")\n",
    "\n",
    "        # Eliminar datos de las tablas\n",
    "        delete_queries = [\n",
    "            'delete from taxi_stg where ano_fabricacion=0;',\n",
    "            'delete from taxi_stg where marca like\"%Marca%no%registrada%\";',\n",
    "            'delete from taxi_stg where categoria like\"%Categoria%no%registrada%\";',\n",
    "            'delete from taxi_stg where tipo_taxi=\"Noid\"'        \n",
    "        ]\n",
    "\n",
    "        for query in delete_queries:\n",
    "            with conexion.cursor() as cursor:\n",
    "                cursor.execute(query)\n",
    "\n",
    "        # Confirmar los cambios\n",
    "        conexion.commit()\n",
    "\n",
    "        print(\"Datos tabla taxi stg limpiada exitosamente.\")\n",
    "\n",
    "    except Exception as e:\n",
    "        print(f\"Error al limpiar la base de datos: {e}\")\n",
    "\n",
    "    finally:\n",
    "        # Reactivar las restricciones de clave externa\n",
    "        with conexion.cursor() as cursor:\n",
    "            cursor.execute(\"SET FOREIGN_KEY_CHECKS=1;\")"
   ]
  },
  {
   "cell_type": "code",
   "execution_count": 15,
   "id": "1ca08d13-c897-4a51-94a7-c54d9cdc9ec1",
   "metadata": {},
   "outputs": [
    {
     "name": "stdout",
     "output_type": "stream",
     "text": [
      "Datos tabla taxi stg limpiada exitosamente.\n"
     ]
    }
   ],
   "source": [
    "limpiar_datos_taxi_stg(conexion)"
   ]
  },
  {
   "cell_type": "code",
   "execution_count": 13,
   "id": "1bfbaafb-0efa-4e54-8ec7-d6f85703e3f8",
   "metadata": {},
   "outputs": [],
   "source": [
    "# OBTENER VALORES DISTINTOS Y ASIGNAR A LAS RESPECTIVAS TABLAS \n",
    "\n",
    "def obtener_distinct_values(conexion, column_name):\n",
    "    try:\n",
    "        with conexion.cursor() as cursor:\n",
    "            select_query = f\"SELECT DISTINCT({column_name}) FROM taxi_stg\"\n",
    "            cursor.execute(select_query)\n",
    "            distinct_values = cursor.fetchall()\n",
    "            print(f\"Datos extraidos correctamente de: {column_name}\")\n",
    "            return tuple(value[0] for value in distinct_values)\n",
    "\n",
    "    except Exception as e:\n",
    "        print(f\"Error al obtener valores distintos: {e}\")\n",
    "        return []"
   ]
  },
  {
   "cell_type": "code",
   "execution_count": 14,
   "id": "0983dad7-f0da-4dfc-9310-da90e95bf438",
   "metadata": {},
   "outputs": [
    {
     "name": "stdout",
     "output_type": "stream",
     "text": [
      "Datos extraidos correctamente de: categoria\n"
     ]
    }
   ],
   "source": [
    "distinct_values_categorias=obtener_distinct_values(conexion, \"categoria\")"
   ]
  },
  {
   "cell_type": "code",
   "execution_count": 15,
   "id": "1eb203b3-a7c9-4741-9699-50f83ea99354",
   "metadata": {},
   "outputs": [
    {
     "name": "stdout",
     "output_type": "stream",
     "text": [
      "Datos extraidos correctamente de: tipo_taxi\n"
     ]
    }
   ],
   "source": [
    "distinct_values_tipo_taxi=obtener_distinct_values(conexion, \"tipo_taxi\")"
   ]
  },
  {
   "cell_type": "code",
   "execution_count": 16,
   "id": "a76c7d95-dadd-4ad3-a2c5-33a4f00d2be4",
   "metadata": {},
   "outputs": [
    {
     "name": "stdout",
     "output_type": "stream",
     "text": [
      "Datos extraidos correctamente de: clase\n"
     ]
    }
   ],
   "source": [
    "distinct_values_clases=obtener_distinct_values(conexion, \"clase\")"
   ]
  },
  {
   "cell_type": "code",
   "execution_count": 17,
   "id": "7da80029-792b-4ae6-b480-e19e141ade2e",
   "metadata": {},
   "outputs": [
    {
     "name": "stdout",
     "output_type": "stream",
     "text": [
      "Datos extraidos correctamente de: marca\n"
     ]
    }
   ],
   "source": [
    "distinct_values_marcas=obtener_distinct_values(conexion, \"marca\")"
   ]
  },
  {
   "cell_type": "code",
   "execution_count": 18,
   "id": "752fcb8e-265a-4b4c-962f-6a64fb36a87f",
   "metadata": {},
   "outputs": [],
   "source": [
    "# INSERTAR DATOS EXTRAIDOS EN LAS RESPECTIVAS TABLAS DE LA BASE DE DATOS\n",
    "\n",
    "def insert_distinct_values_into_table(conexion, distinct_values, table_name, column_name):\n",
    "        try:\n",
    "            with conexion.cursor() as cursor:\n",
    "                insert_query = f\"INSERT INTO {table_name} ({column_name}) VALUES (%s)\"\n",
    "                for value in distinct_values:\n",
    "                    cursor.execute(insert_query, (value,))\n",
    "\n",
    "                conexion.commit()\n",
    "                print(f\"Datos insertados correctamente en {table_name}.\")\n",
    "\n",
    "        except Exception as e:\n",
    "            print(f\"Error al insertar datos en {table_name}: {e}\")  "
   ]
  },
  {
   "cell_type": "code",
   "execution_count": 19,
   "id": "e2e1f503-8569-4fe9-984e-5ad42a5d4af3",
   "metadata": {},
   "outputs": [
    {
     "name": "stdout",
     "output_type": "stream",
     "text": [
      "Datos insertados correctamente en marca.\n"
     ]
    }
   ],
   "source": [
    "insert_distinct_values_into_table(conexion, distinct_values_marcas, \"marca\", \"descripcion_marca\")"
   ]
  },
  {
   "cell_type": "code",
   "execution_count": 20,
   "id": "2885238c-0bbb-4059-8829-0e96249e5c45",
   "metadata": {},
   "outputs": [
    {
     "name": "stdout",
     "output_type": "stream",
     "text": [
      "Datos insertados correctamente en clase.\n"
     ]
    }
   ],
   "source": [
    "insert_distinct_values_into_table(conexion, distinct_values_clases, \"clase\", \"descripcion_clase\")"
   ]
  },
  {
   "cell_type": "code",
   "execution_count": 21,
   "id": "61fbd2fa-ec47-4782-aedd-7e7b532a10e2",
   "metadata": {},
   "outputs": [
    {
     "name": "stdout",
     "output_type": "stream",
     "text": [
      "Datos insertados correctamente en categoria.\n"
     ]
    }
   ],
   "source": [
    "insert_distinct_values_into_table(conexion, distinct_values_categorias, \"categoria\", \"descripcion_categoria\")"
   ]
  },
  {
   "cell_type": "code",
   "execution_count": 22,
   "id": "ddc9567e-e072-484e-a303-d0b50c7e88cd",
   "metadata": {},
   "outputs": [
    {
     "name": "stdout",
     "output_type": "stream",
     "text": [
      "Datos insertados correctamente en tipo_taxi.\n"
     ]
    }
   ],
   "source": [
    "insert_distinct_values_into_table(conexion, distinct_values_tipo_taxi, \"tipo_taxi\", \"descripcion_tipo_taxi\")"
   ]
  },
  {
   "cell_type": "code",
   "execution_count": null,
   "id": "a3c5c9eb-c0fe-414e-bd1f-6de6dde5ce44",
   "metadata": {},
   "outputs": [],
   "source": []
  }
 ],
 "metadata": {
  "kernelspec": {
   "display_name": "Python 3 (ipykernel)",
   "language": "python",
   "name": "python3"
  },
  "language_info": {
   "codemirror_mode": {
    "name": "ipython",
    "version": 3
   },
   "file_extension": ".py",
   "mimetype": "text/x-python",
   "name": "python",
   "nbconvert_exporter": "python",
   "pygments_lexer": "ipython3",
   "version": "3.11.7"
  }
 },
 "nbformat": 4,
 "nbformat_minor": 5
}
