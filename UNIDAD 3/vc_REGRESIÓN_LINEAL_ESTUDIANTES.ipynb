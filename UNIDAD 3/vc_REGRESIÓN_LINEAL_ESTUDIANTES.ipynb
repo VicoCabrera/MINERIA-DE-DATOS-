{
  "nbformat": 4,
  "nbformat_minor": 0,
  "metadata": {
    "colab": {
      "provenance": []
    },
    "kernelspec": {
      "name": "python3",
      "display_name": "Python 3"
    },
    "language_info": {
      "name": "python"
    }
  },
  "cells": [
    {
      "cell_type": "markdown",
      "source": [
        "<!--Header-->\n",
        "<div>\n",
        "    <div class=\"row\" style=\"color: #4D4D4D;font-size: 15px;padding-bottom: 20px\">\n",
        "        <div class=\"col-md-7\">\n",
        "            <img src=\"https://www.tecazuay.edu.ec/wp-content/uploads/2023/07/LOGO-RECTANGULAR_SIN-FONDO-2048x626.png\" alt=\"Logo TECAZUAY\" width=\"100%\" class=\"img-responsive\" style=\"margin:20px 0px 0px\">\n",
        "        </div>\n",
        "        <div class=\"col-md-5\">\n",
        "            <h1 style=\"margin:15px 0px 0px;font-size: 40px;\">REGRESIÓN LINEAL</h1>\n",
        "            <div style=\"text-align:left;margin-top: 5px;\"></div>\n",
        "        </div>\n",
        "    </div>\n",
        "    <div class=\"row\" style=\"background: #FCB517;padding: 10px 20px;\">\n",
        "        <div class=\"col-md-6\">\n",
        "        </div>\n",
        "        <div class=\"col-md-6\">\n",
        "            </div>\n",
        "        </div>\n",
        "        <div style=\"text-align:right;\">Carrera: TECNOLOGÍA SUPERIOR EN BIG DATA <span style=\"margin-left: 30px;\"></span></div>\n",
        "         <div style=\"text-align:right;\">Estudiante: Victor Cabrera  <span style=\"margin-left: 30px;\"></span></div>\n",
        "          <div style=\"text-align:right;\">Fecha: 6/7/2024 <span style=\"margin-left: 30px;\"></span></div>\n",
        "        </div>\n",
        "    </div>\n",
        "</div>\n",
        "<!--/Header-->"
      ],
      "metadata": {
        "id": "ip4dUtGRCjU_"
      }
    },
    {
      "cell_type": "markdown",
      "source": [
        "**REGRESIÓN LINEAL**\n",
        "\n",
        "La regresión lineal es una técnica estadística que se utiliza para modelar la relación entre una variable dependiente y una o más variables independientes. El objetivo de la regresión lineal es encontrar una línea recta que mejor represente la relación entre estas variables."
      ],
      "metadata": {
        "id": "BxBKMqinn-SI"
      }
    },
    {
      "cell_type": "markdown",
      "source": [
        "**Regresión lineal simple:** Este tipo de regresión lineal involucra solo dos variables, una variable independiente y una variable dependiente. La relación entre las dos variables se modela mediante una línea recta."
      ],
      "metadata": {
        "id": "w2_FV2lKok-X"
      }
    },
    {
      "cell_type": "markdown",
      "source": [
        "Supongamos que se tiene un conjunto de datos que muestra la cantidad de tiempo que los estudiantes pasan estudiando y sus calificaciones en un examen. El objetivo es determinar si hay una relación lineal entre el tiempo de estudio y las calificaciones, y si es así, utilizar la regresión lineal para predecir las calificaciones de un estudiante en función del tiempo que pasan estudiando."
      ],
      "metadata": {
        "id": "5FL-8nUpkfTH"
      }
    },
    {
      "cell_type": "markdown",
      "source": [
        "Primero, se deben importar las bibliotecas necesarias y cargar los datos en un DataFrame de Pandas:\n",
        "\n",
        "Como segundo paso: En este caso tenemos datos de Tiempo y Calificaciones de estudiantes, con un total de 600 registros:\n",
        "Pero estos datos estan enn diferentes datas csv y por ello se realizara un procedimiento de conexion con drive para dirigirnos  a nuestra carpeta donde estan los csv, para asi poder concatenar cada uno con el fin de obtener asi una data_nueva con 600 registros."
      ],
      "metadata": {
        "id": "iC-9QQ2TkxeM"
      }
    },
    {
      "cell_type": "code",
      "source": [
        "import os\n",
        "import pandas as pd\n",
        "import numpy as np\n",
        "from sklearn.linear_model import LinearRegression\n",
        "import matplotlib.pyplot as plt\n",
        "import glob\n"
      ],
      "metadata": {
        "id": "bOTtvVz9IToH"
      },
      "execution_count": null,
      "outputs": []
    },
    {
      "cell_type": "code",
      "source": [
        "# Ruta a la carpeta en Google Drive\n",
        "path = \"/content/drive/MyDrive/Datas Compañeros\""
      ],
      "metadata": {
        "id": "LIW0xb4MJj4c"
      },
      "execution_count": null,
      "outputs": []
    },
    {
      "cell_type": "code",
      "source": [
        "# Obtener la lista de todos los archivos CSV en la carpeta\n",
        "csv_files = glob.glob(path + \"/*.csv\")\n",
        "csv_files"
      ],
      "metadata": {
        "colab": {
          "base_uri": "https://localhost:8080/"
        },
        "id": "dhRto20rHbTs",
        "outputId": "f06af9e4-2d16-4659-d353-e26a2d894270"
      },
      "execution_count": null,
      "outputs": [
        {
          "output_type": "execute_result",
          "data": {
            "text/plain": [
              "['/content/drive/MyDrive/Datas Compañeros/datos_estudiantes_Paul Rodriguez.csv',\n",
              " '/content/drive/MyDrive/Datas Compañeros/datos_estudiantes_Paula Gomez.csv',\n",
              " '/content/drive/MyDrive/Datas Compañeros/datos_estudiantes_Carlos Astudillo.csv',\n",
              " '/content/drive/MyDrive/Datas Compañeros/datos_estudiantes_Jose_munoz.csv',\n",
              " '/content/drive/MyDrive/Datas Compañeros/Datos_Estudiantes_Maicol Lojano.csv',\n",
              " '/content/drive/MyDrive/Datas Compañeros/datos_estudiantes_Ariel_Saquicela.csv',\n",
              " '/content/drive/MyDrive/Datas Compañeros/datos_estudiantes_Danny Auquilla.csv',\n",
              " '/content/drive/MyDrive/Datas Compañeros/danny datos_estudiantes.csv',\n",
              " '/content/drive/MyDrive/Datas Compañeros/datos_estudiantes_victorcab.csv',\n",
              " '/content/drive/MyDrive/Datas Compañeros/datos_estudiantes_Jonnathan.csv']"
            ]
          },
          "metadata": {},
          "execution_count": 74
        }
      ]
    },
    {
      "cell_type": "code",
      "source": [
        "# Leer y almacenar cada archivo CSV en una lista\n",
        "data = [pd.read_csv(file) for file in csv_files]"
      ],
      "metadata": {
        "id": "siu4HkizdFGb"
      },
      "execution_count": null,
      "outputs": []
    },
    {
      "cell_type": "code",
      "source": [
        "# Combinar todos los DataFrames en uno solo\n",
        "combined_df = pd.concat(data, ignore_index=True)"
      ],
      "metadata": {
        "id": "nIwKNuKcaTqN"
      },
      "execution_count": null,
      "outputs": []
    },
    {
      "cell_type": "code",
      "source": [
        "# Guardar el DataFrame combinado en un nuevo archivo CSV\n",
        "combined_df.to_csv(\"Datas_Unidas\", index=False)"
      ],
      "metadata": {
        "id": "2o2IP9OegD3I"
      },
      "execution_count": null,
      "outputs": []
    },
    {
      "cell_type": "code",
      "source": [
        "# Ya teniendo los archivos combinados con el nombre Datas_Unidas, ahora procedemos a copiar la ruta para trabajar con él directamente.\n",
        "data = pd.read_csv(\"/content/Datas_Unidas\")\n",
        "data"
      ],
      "metadata": {
        "colab": {
          "base_uri": "https://localhost:8080/",
          "height": 423
        },
        "id": "Iv4J1Q2-MjEr",
        "outputId": "224565a7-baba-4558-e1f6-5bb05d92a532"
      },
      "execution_count": null,
      "outputs": [
        {
          "output_type": "execute_result",
          "data": {
            "text/plain": [
              "     Tiempo  Calificación\n",
              "0         1            60\n",
              "1         2            65\n",
              "2         3            70\n",
              "3         4            75\n",
              "4         5            80\n",
              "..      ...           ...\n",
              "596      56            98\n",
              "597      57            92\n",
              "598      58            99\n",
              "599      59            93\n",
              "600      60            87\n",
              "\n",
              "[601 rows x 2 columns]"
            ],
            "text/html": [
              "\n",
              "  <div id=\"df-3705a826-47e4-4702-acab-b4e266463ee2\" class=\"colab-df-container\">\n",
              "    <div>\n",
              "<style scoped>\n",
              "    .dataframe tbody tr th:only-of-type {\n",
              "        vertical-align: middle;\n",
              "    }\n",
              "\n",
              "    .dataframe tbody tr th {\n",
              "        vertical-align: top;\n",
              "    }\n",
              "\n",
              "    .dataframe thead th {\n",
              "        text-align: right;\n",
              "    }\n",
              "</style>\n",
              "<table border=\"1\" class=\"dataframe\">\n",
              "  <thead>\n",
              "    <tr style=\"text-align: right;\">\n",
              "      <th></th>\n",
              "      <th>Tiempo</th>\n",
              "      <th>Calificación</th>\n",
              "    </tr>\n",
              "  </thead>\n",
              "  <tbody>\n",
              "    <tr>\n",
              "      <th>0</th>\n",
              "      <td>1</td>\n",
              "      <td>60</td>\n",
              "    </tr>\n",
              "    <tr>\n",
              "      <th>1</th>\n",
              "      <td>2</td>\n",
              "      <td>65</td>\n",
              "    </tr>\n",
              "    <tr>\n",
              "      <th>2</th>\n",
              "      <td>3</td>\n",
              "      <td>70</td>\n",
              "    </tr>\n",
              "    <tr>\n",
              "      <th>3</th>\n",
              "      <td>4</td>\n",
              "      <td>75</td>\n",
              "    </tr>\n",
              "    <tr>\n",
              "      <th>4</th>\n",
              "      <td>5</td>\n",
              "      <td>80</td>\n",
              "    </tr>\n",
              "    <tr>\n",
              "      <th>...</th>\n",
              "      <td>...</td>\n",
              "      <td>...</td>\n",
              "    </tr>\n",
              "    <tr>\n",
              "      <th>596</th>\n",
              "      <td>56</td>\n",
              "      <td>98</td>\n",
              "    </tr>\n",
              "    <tr>\n",
              "      <th>597</th>\n",
              "      <td>57</td>\n",
              "      <td>92</td>\n",
              "    </tr>\n",
              "    <tr>\n",
              "      <th>598</th>\n",
              "      <td>58</td>\n",
              "      <td>99</td>\n",
              "    </tr>\n",
              "    <tr>\n",
              "      <th>599</th>\n",
              "      <td>59</td>\n",
              "      <td>93</td>\n",
              "    </tr>\n",
              "    <tr>\n",
              "      <th>600</th>\n",
              "      <td>60</td>\n",
              "      <td>87</td>\n",
              "    </tr>\n",
              "  </tbody>\n",
              "</table>\n",
              "<p>601 rows × 2 columns</p>\n",
              "</div>\n",
              "    <div class=\"colab-df-buttons\">\n",
              "\n",
              "  <div class=\"colab-df-container\">\n",
              "    <button class=\"colab-df-convert\" onclick=\"convertToInteractive('df-3705a826-47e4-4702-acab-b4e266463ee2')\"\n",
              "            title=\"Convert this dataframe to an interactive table.\"\n",
              "            style=\"display:none;\">\n",
              "\n",
              "  <svg xmlns=\"http://www.w3.org/2000/svg\" height=\"24px\" viewBox=\"0 -960 960 960\">\n",
              "    <path d=\"M120-120v-720h720v720H120Zm60-500h600v-160H180v160Zm220 220h160v-160H400v160Zm0 220h160v-160H400v160ZM180-400h160v-160H180v160Zm440 0h160v-160H620v160ZM180-180h160v-160H180v160Zm440 0h160v-160H620v160Z\"/>\n",
              "  </svg>\n",
              "    </button>\n",
              "\n",
              "  <style>\n",
              "    .colab-df-container {\n",
              "      display:flex;\n",
              "      gap: 12px;\n",
              "    }\n",
              "\n",
              "    .colab-df-convert {\n",
              "      background-color: #E8F0FE;\n",
              "      border: none;\n",
              "      border-radius: 50%;\n",
              "      cursor: pointer;\n",
              "      display: none;\n",
              "      fill: #1967D2;\n",
              "      height: 32px;\n",
              "      padding: 0 0 0 0;\n",
              "      width: 32px;\n",
              "    }\n",
              "\n",
              "    .colab-df-convert:hover {\n",
              "      background-color: #E2EBFA;\n",
              "      box-shadow: 0px 1px 2px rgba(60, 64, 67, 0.3), 0px 1px 3px 1px rgba(60, 64, 67, 0.15);\n",
              "      fill: #174EA6;\n",
              "    }\n",
              "\n",
              "    .colab-df-buttons div {\n",
              "      margin-bottom: 4px;\n",
              "    }\n",
              "\n",
              "    [theme=dark] .colab-df-convert {\n",
              "      background-color: #3B4455;\n",
              "      fill: #D2E3FC;\n",
              "    }\n",
              "\n",
              "    [theme=dark] .colab-df-convert:hover {\n",
              "      background-color: #434B5C;\n",
              "      box-shadow: 0px 1px 3px 1px rgba(0, 0, 0, 0.15);\n",
              "      filter: drop-shadow(0px 1px 2px rgba(0, 0, 0, 0.3));\n",
              "      fill: #FFFFFF;\n",
              "    }\n",
              "  </style>\n",
              "\n",
              "    <script>\n",
              "      const buttonEl =\n",
              "        document.querySelector('#df-3705a826-47e4-4702-acab-b4e266463ee2 button.colab-df-convert');\n",
              "      buttonEl.style.display =\n",
              "        google.colab.kernel.accessAllowed ? 'block' : 'none';\n",
              "\n",
              "      async function convertToInteractive(key) {\n",
              "        const element = document.querySelector('#df-3705a826-47e4-4702-acab-b4e266463ee2');\n",
              "        const dataTable =\n",
              "          await google.colab.kernel.invokeFunction('convertToInteractive',\n",
              "                                                    [key], {});\n",
              "        if (!dataTable) return;\n",
              "\n",
              "        const docLinkHtml = 'Like what you see? Visit the ' +\n",
              "          '<a target=\"_blank\" href=https://colab.research.google.com/notebooks/data_table.ipynb>data table notebook</a>'\n",
              "          + ' to learn more about interactive tables.';\n",
              "        element.innerHTML = '';\n",
              "        dataTable['output_type'] = 'display_data';\n",
              "        await google.colab.output.renderOutput(dataTable, element);\n",
              "        const docLink = document.createElement('div');\n",
              "        docLink.innerHTML = docLinkHtml;\n",
              "        element.appendChild(docLink);\n",
              "      }\n",
              "    </script>\n",
              "  </div>\n",
              "\n",
              "\n",
              "<div id=\"df-e614635d-8ef7-4fbf-8ed8-0229c0bbd234\">\n",
              "  <button class=\"colab-df-quickchart\" onclick=\"quickchart('df-e614635d-8ef7-4fbf-8ed8-0229c0bbd234')\"\n",
              "            title=\"Suggest charts\"\n",
              "            style=\"display:none;\">\n",
              "\n",
              "<svg xmlns=\"http://www.w3.org/2000/svg\" height=\"24px\"viewBox=\"0 0 24 24\"\n",
              "     width=\"24px\">\n",
              "    <g>\n",
              "        <path d=\"M19 3H5c-1.1 0-2 .9-2 2v14c0 1.1.9 2 2 2h14c1.1 0 2-.9 2-2V5c0-1.1-.9-2-2-2zM9 17H7v-7h2v7zm4 0h-2V7h2v10zm4 0h-2v-4h2v4z\"/>\n",
              "    </g>\n",
              "</svg>\n",
              "  </button>\n",
              "\n",
              "<style>\n",
              "  .colab-df-quickchart {\n",
              "      --bg-color: #E8F0FE;\n",
              "      --fill-color: #1967D2;\n",
              "      --hover-bg-color: #E2EBFA;\n",
              "      --hover-fill-color: #174EA6;\n",
              "      --disabled-fill-color: #AAA;\n",
              "      --disabled-bg-color: #DDD;\n",
              "  }\n",
              "\n",
              "  [theme=dark] .colab-df-quickchart {\n",
              "      --bg-color: #3B4455;\n",
              "      --fill-color: #D2E3FC;\n",
              "      --hover-bg-color: #434B5C;\n",
              "      --hover-fill-color: #FFFFFF;\n",
              "      --disabled-bg-color: #3B4455;\n",
              "      --disabled-fill-color: #666;\n",
              "  }\n",
              "\n",
              "  .colab-df-quickchart {\n",
              "    background-color: var(--bg-color);\n",
              "    border: none;\n",
              "    border-radius: 50%;\n",
              "    cursor: pointer;\n",
              "    display: none;\n",
              "    fill: var(--fill-color);\n",
              "    height: 32px;\n",
              "    padding: 0;\n",
              "    width: 32px;\n",
              "  }\n",
              "\n",
              "  .colab-df-quickchart:hover {\n",
              "    background-color: var(--hover-bg-color);\n",
              "    box-shadow: 0 1px 2px rgba(60, 64, 67, 0.3), 0 1px 3px 1px rgba(60, 64, 67, 0.15);\n",
              "    fill: var(--button-hover-fill-color);\n",
              "  }\n",
              "\n",
              "  .colab-df-quickchart-complete:disabled,\n",
              "  .colab-df-quickchart-complete:disabled:hover {\n",
              "    background-color: var(--disabled-bg-color);\n",
              "    fill: var(--disabled-fill-color);\n",
              "    box-shadow: none;\n",
              "  }\n",
              "\n",
              "  .colab-df-spinner {\n",
              "    border: 2px solid var(--fill-color);\n",
              "    border-color: transparent;\n",
              "    border-bottom-color: var(--fill-color);\n",
              "    animation:\n",
              "      spin 1s steps(1) infinite;\n",
              "  }\n",
              "\n",
              "  @keyframes spin {\n",
              "    0% {\n",
              "      border-color: transparent;\n",
              "      border-bottom-color: var(--fill-color);\n",
              "      border-left-color: var(--fill-color);\n",
              "    }\n",
              "    20% {\n",
              "      border-color: transparent;\n",
              "      border-left-color: var(--fill-color);\n",
              "      border-top-color: var(--fill-color);\n",
              "    }\n",
              "    30% {\n",
              "      border-color: transparent;\n",
              "      border-left-color: var(--fill-color);\n",
              "      border-top-color: var(--fill-color);\n",
              "      border-right-color: var(--fill-color);\n",
              "    }\n",
              "    40% {\n",
              "      border-color: transparent;\n",
              "      border-right-color: var(--fill-color);\n",
              "      border-top-color: var(--fill-color);\n",
              "    }\n",
              "    60% {\n",
              "      border-color: transparent;\n",
              "      border-right-color: var(--fill-color);\n",
              "    }\n",
              "    80% {\n",
              "      border-color: transparent;\n",
              "      border-right-color: var(--fill-color);\n",
              "      border-bottom-color: var(--fill-color);\n",
              "    }\n",
              "    90% {\n",
              "      border-color: transparent;\n",
              "      border-bottom-color: var(--fill-color);\n",
              "    }\n",
              "  }\n",
              "</style>\n",
              "\n",
              "  <script>\n",
              "    async function quickchart(key) {\n",
              "      const quickchartButtonEl =\n",
              "        document.querySelector('#' + key + ' button');\n",
              "      quickchartButtonEl.disabled = true;  // To prevent multiple clicks.\n",
              "      quickchartButtonEl.classList.add('colab-df-spinner');\n",
              "      try {\n",
              "        const charts = await google.colab.kernel.invokeFunction(\n",
              "            'suggestCharts', [key], {});\n",
              "      } catch (error) {\n",
              "        console.error('Error during call to suggestCharts:', error);\n",
              "      }\n",
              "      quickchartButtonEl.classList.remove('colab-df-spinner');\n",
              "      quickchartButtonEl.classList.add('colab-df-quickchart-complete');\n",
              "    }\n",
              "    (() => {\n",
              "      let quickchartButtonEl =\n",
              "        document.querySelector('#df-e614635d-8ef7-4fbf-8ed8-0229c0bbd234 button');\n",
              "      quickchartButtonEl.style.display =\n",
              "        google.colab.kernel.accessAllowed ? 'block' : 'none';\n",
              "    })();\n",
              "  </script>\n",
              "</div>\n",
              "\n",
              "  <div id=\"id_60ea057e-c105-444b-8ea2-0487de070e79\">\n",
              "    <style>\n",
              "      .colab-df-generate {\n",
              "        background-color: #E8F0FE;\n",
              "        border: none;\n",
              "        border-radius: 50%;\n",
              "        cursor: pointer;\n",
              "        display: none;\n",
              "        fill: #1967D2;\n",
              "        height: 32px;\n",
              "        padding: 0 0 0 0;\n",
              "        width: 32px;\n",
              "      }\n",
              "\n",
              "      .colab-df-generate:hover {\n",
              "        background-color: #E2EBFA;\n",
              "        box-shadow: 0px 1px 2px rgba(60, 64, 67, 0.3), 0px 1px 3px 1px rgba(60, 64, 67, 0.15);\n",
              "        fill: #174EA6;\n",
              "      }\n",
              "\n",
              "      [theme=dark] .colab-df-generate {\n",
              "        background-color: #3B4455;\n",
              "        fill: #D2E3FC;\n",
              "      }\n",
              "\n",
              "      [theme=dark] .colab-df-generate:hover {\n",
              "        background-color: #434B5C;\n",
              "        box-shadow: 0px 1px 3px 1px rgba(0, 0, 0, 0.15);\n",
              "        filter: drop-shadow(0px 1px 2px rgba(0, 0, 0, 0.3));\n",
              "        fill: #FFFFFF;\n",
              "      }\n",
              "    </style>\n",
              "    <button class=\"colab-df-generate\" onclick=\"generateWithVariable('data')\"\n",
              "            title=\"Generate code using this dataframe.\"\n",
              "            style=\"display:none;\">\n",
              "\n",
              "  <svg xmlns=\"http://www.w3.org/2000/svg\" height=\"24px\"viewBox=\"0 0 24 24\"\n",
              "       width=\"24px\">\n",
              "    <path d=\"M7,19H8.4L18.45,9,17,7.55,7,17.6ZM5,21V16.75L18.45,3.32a2,2,0,0,1,2.83,0l1.4,1.43a1.91,1.91,0,0,1,.58,1.4,1.91,1.91,0,0,1-.58,1.4L9.25,21ZM18.45,9,17,7.55Zm-12,3A5.31,5.31,0,0,0,4.9,8.1,5.31,5.31,0,0,0,1,6.5,5.31,5.31,0,0,0,4.9,4.9,5.31,5.31,0,0,0,6.5,1,5.31,5.31,0,0,0,8.1,4.9,5.31,5.31,0,0,0,12,6.5,5.46,5.46,0,0,0,6.5,12Z\"/>\n",
              "  </svg>\n",
              "    </button>\n",
              "    <script>\n",
              "      (() => {\n",
              "      const buttonEl =\n",
              "        document.querySelector('#id_60ea057e-c105-444b-8ea2-0487de070e79 button.colab-df-generate');\n",
              "      buttonEl.style.display =\n",
              "        google.colab.kernel.accessAllowed ? 'block' : 'none';\n",
              "\n",
              "      buttonEl.onclick = () => {\n",
              "        google.colab.notebook.generateWithVariable('data');\n",
              "      }\n",
              "      })();\n",
              "    </script>\n",
              "  </div>\n",
              "\n",
              "    </div>\n",
              "  </div>\n"
            ],
            "application/vnd.google.colaboratory.intrinsic+json": {
              "type": "dataframe",
              "variable_name": "data",
              "summary": "{\n  \"name\": \"data\",\n  \"rows\": 601,\n  \"fields\": [\n    {\n      \"column\": \"Tiempo\",\n      \"properties\": {\n        \"dtype\": \"number\",\n        \"std\": 12,\n        \"min\": 1,\n        \"max\": 60,\n        \"num_unique_values\": 60,\n        \"samples\": [\n          1,\n          6,\n          37\n        ],\n        \"semantic_type\": \"\",\n        \"description\": \"\"\n      }\n    },\n    {\n      \"column\": \"Calificaci\\u00f3n\",\n      \"properties\": {\n        \"dtype\": \"number\",\n        \"std\": 35,\n        \"min\": 4,\n        \"max\": 670,\n        \"num_unique_values\": 86,\n        \"samples\": [\n          15,\n          60,\n          27\n        ],\n        \"semantic_type\": \"\",\n        \"description\": \"\"\n      }\n    }\n  ]\n}"
            }
          },
          "metadata": {},
          "execution_count": 82
        }
      ]
    },
    {
      "cell_type": "code",
      "source": [
        "# Vemos cuantas filas y cuantas columnas hay en nuestra dataframe\n",
        "data.shape"
      ],
      "metadata": {
        "colab": {
          "base_uri": "https://localhost:8080/"
        },
        "id": "9uB7TUbGLcfP",
        "outputId": "f5f5fbe8-7ca9-498d-f8a0-6aeddfad02e5"
      },
      "execution_count": null,
      "outputs": [
        {
          "output_type": "execute_result",
          "data": {
            "text/plain": [
              "(601, 2)"
            ]
          },
          "metadata": {},
          "execution_count": 83
        }
      ]
    },
    {
      "cell_type": "markdown",
      "source": [
        "El archivo \"datas_unidas.csv\" contiene los datos de estudiantes, que se presentan en la siguiente tabla:"
      ],
      "metadata": {
        "id": "sGWTfP7Tk_ge"
      }
    },
    {
      "cell_type": "markdown",
      "source": [
        "Ahora se van a agregar 50 datos más a la lista"
      ],
      "metadata": {
        "id": "ALogtzPPT732"
      }
    },
    {
      "cell_type": "code",
      "source": [
        "# visualizar los primeros registros\n",
        "print(data)"
      ],
      "metadata": {
        "colab": {
          "base_uri": "https://localhost:8080/"
        },
        "id": "Asu8s8WOlH3W",
        "outputId": "224a13bb-bf19-433e-e1ce-2db93a442945"
      },
      "execution_count": null,
      "outputs": [
        {
          "output_type": "stream",
          "name": "stdout",
          "text": [
            "     Tiempo  Calificación\n",
            "0         1            60\n",
            "1         2            65\n",
            "2         3            70\n",
            "3         4            75\n",
            "4         5            80\n",
            "..      ...           ...\n",
            "596      56            98\n",
            "597      57            92\n",
            "598      58            99\n",
            "599      59            93\n",
            "600      60            87\n",
            "\n",
            "[601 rows x 2 columns]\n"
          ]
        }
      ]
    },
    {
      "cell_type": "markdown",
      "source": [
        "A continuación, se deben separar las variables independientes (horas de estudio) de la variable dependiente (calificacion):"
      ],
      "metadata": {
        "id": "KfI4iQ8KlNXm"
      }
    },
    {
      "cell_type": "code",
      "source": [
        "# separar las variables independientes y dependiente\n",
        "X = data.iloc[:, :-1].values\n",
        "y = data.iloc[:, 1].values"
      ],
      "metadata": {
        "id": "7h2ZHnM6hkFX"
      },
      "execution_count": null,
      "outputs": []
    },
    {
      "cell_type": "code",
      "source": [
        "X"
      ],
      "metadata": {
        "colab": {
          "base_uri": "https://localhost:8080/"
        },
        "id": "3hz6Eny6jX5j",
        "outputId": "eb1fc2ee-b2b3-45bc-9407-1c9d48fac879"
      },
      "execution_count": null,
      "outputs": [
        {
          "output_type": "execute_result",
          "data": {
            "text/plain": [
              "array([[ 1],\n",
              "       [ 2],\n",
              "       [ 3],\n",
              "       [ 4],\n",
              "       [ 5],\n",
              "       [ 6],\n",
              "       [ 7],\n",
              "       [ 8],\n",
              "       [ 9],\n",
              "       [10],\n",
              "       [11],\n",
              "       [ 1],\n",
              "       [ 2],\n",
              "       [ 3],\n",
              "       [ 4],\n",
              "       [ 5],\n",
              "       [ 6],\n",
              "       [ 7],\n",
              "       [ 8],\n",
              "       [ 9],\n",
              "       [10],\n",
              "       [11],\n",
              "       [ 1],\n",
              "       [ 2],\n",
              "       [ 3],\n",
              "       [ 4],\n",
              "       [ 5],\n",
              "       [ 6],\n",
              "       [ 7],\n",
              "       [ 8],\n",
              "       [ 9],\n",
              "       [ 2],\n",
              "       [ 3],\n",
              "       [ 4],\n",
              "       [ 5],\n",
              "       [ 6],\n",
              "       [ 7],\n",
              "       [ 8],\n",
              "       [ 9],\n",
              "       [10],\n",
              "       [11],\n",
              "       [ 1],\n",
              "       [ 2],\n",
              "       [ 3],\n",
              "       [ 4],\n",
              "       [ 5],\n",
              "       [ 6],\n",
              "       [ 7],\n",
              "       [ 8],\n",
              "       [ 9],\n",
              "       [10],\n",
              "       [11],\n",
              "       [ 1],\n",
              "       [ 2],\n",
              "       [ 3],\n",
              "       [ 4],\n",
              "       [ 5],\n",
              "       [ 6],\n",
              "       [ 7],\n",
              "       [ 8],\n",
              "       [ 9],\n",
              "       [10],\n",
              "       [11],\n",
              "       [ 1],\n",
              "       [ 2],\n",
              "       [ 3],\n",
              "       [ 4],\n",
              "       [ 5],\n",
              "       [ 6],\n",
              "       [ 7],\n",
              "       [ 1],\n",
              "       [ 2],\n",
              "       [ 3],\n",
              "       [ 4],\n",
              "       [ 5],\n",
              "       [ 6],\n",
              "       [ 7],\n",
              "       [ 8],\n",
              "       [ 9],\n",
              "       [10],\n",
              "       [ 2],\n",
              "       [ 5],\n",
              "       [15],\n",
              "       [ 6],\n",
              "       [ 7],\n",
              "       [ 8],\n",
              "       [12],\n",
              "       [ 1],\n",
              "       [ 7],\n",
              "       [ 5],\n",
              "       [14],\n",
              "       [ 5],\n",
              "       [17],\n",
              "       [ 8],\n",
              "       [ 9],\n",
              "       [11],\n",
              "       [24],\n",
              "       [ 3],\n",
              "       [15],\n",
              "       [ 6],\n",
              "       [ 8],\n",
              "       [ 7],\n",
              "       [10],\n",
              "       [ 2],\n",
              "       [14],\n",
              "       [ 3],\n",
              "       [ 5],\n",
              "       [ 7],\n",
              "       [ 5],\n",
              "       [13],\n",
              "       [11],\n",
              "       [ 2],\n",
              "       [ 8],\n",
              "       [15],\n",
              "       [ 9],\n",
              "       [ 6],\n",
              "       [ 5],\n",
              "       [ 8],\n",
              "       [19],\n",
              "       [ 4],\n",
              "       [18],\n",
              "       [ 7],\n",
              "       [ 3],\n",
              "       [12],\n",
              "       [23],\n",
              "       [ 4],\n",
              "       [10],\n",
              "       [ 3],\n",
              "       [12],\n",
              "       [16],\n",
              "       [ 1],\n",
              "       [ 2],\n",
              "       [ 3],\n",
              "       [ 4],\n",
              "       [ 5],\n",
              "       [ 6],\n",
              "       [ 7],\n",
              "       [ 8],\n",
              "       [ 9],\n",
              "       [10],\n",
              "       [11],\n",
              "       [12],\n",
              "       [13],\n",
              "       [14],\n",
              "       [15],\n",
              "       [16],\n",
              "       [17],\n",
              "       [18],\n",
              "       [19],\n",
              "       [20],\n",
              "       [21],\n",
              "       [22],\n",
              "       [23],\n",
              "       [24],\n",
              "       [25],\n",
              "       [26],\n",
              "       [27],\n",
              "       [28],\n",
              "       [29],\n",
              "       [30],\n",
              "       [31],\n",
              "       [32],\n",
              "       [33],\n",
              "       [34],\n",
              "       [35],\n",
              "       [36],\n",
              "       [37],\n",
              "       [38],\n",
              "       [39],\n",
              "       [40],\n",
              "       [41],\n",
              "       [42],\n",
              "       [43],\n",
              "       [44],\n",
              "       [45],\n",
              "       [46],\n",
              "       [47],\n",
              "       [48],\n",
              "       [49],\n",
              "       [50],\n",
              "       [51],\n",
              "       [52],\n",
              "       [53],\n",
              "       [54],\n",
              "       [55],\n",
              "       [56],\n",
              "       [57],\n",
              "       [58],\n",
              "       [59],\n",
              "       [60],\n",
              "       [ 1],\n",
              "       [ 2],\n",
              "       [ 3],\n",
              "       [ 4],\n",
              "       [ 5],\n",
              "       [ 6],\n",
              "       [ 7],\n",
              "       [ 8],\n",
              "       [ 9],\n",
              "       [10],\n",
              "       [11],\n",
              "       [12],\n",
              "       [ 1],\n",
              "       [ 2],\n",
              "       [ 3],\n",
              "       [ 4],\n",
              "       [ 5],\n",
              "       [ 6],\n",
              "       [ 7],\n",
              "       [ 8],\n",
              "       [ 9],\n",
              "       [10],\n",
              "       [11],\n",
              "       [12],\n",
              "       [ 1],\n",
              "       [ 2],\n",
              "       [ 3],\n",
              "       [ 4],\n",
              "       [ 5],\n",
              "       [ 6],\n",
              "       [ 7],\n",
              "       [ 8],\n",
              "       [ 9],\n",
              "       [10],\n",
              "       [11],\n",
              "       [12],\n",
              "       [ 1],\n",
              "       [ 2],\n",
              "       [ 3],\n",
              "       [ 4],\n",
              "       [ 5],\n",
              "       [ 6],\n",
              "       [ 7],\n",
              "       [ 8],\n",
              "       [ 9],\n",
              "       [10],\n",
              "       [11],\n",
              "       [12],\n",
              "       [ 1],\n",
              "       [ 2],\n",
              "       [ 3],\n",
              "       [ 4],\n",
              "       [ 5],\n",
              "       [ 6],\n",
              "       [ 7],\n",
              "       [ 8],\n",
              "       [ 9],\n",
              "       [10],\n",
              "       [11],\n",
              "       [12],\n",
              "       [ 1],\n",
              "       [ 1],\n",
              "       [ 2],\n",
              "       [ 3],\n",
              "       [ 4],\n",
              "       [ 5],\n",
              "       [ 6],\n",
              "       [ 7],\n",
              "       [ 8],\n",
              "       [ 9],\n",
              "       [10],\n",
              "       [11],\n",
              "       [12],\n",
              "       [13],\n",
              "       [14],\n",
              "       [15],\n",
              "       [15],\n",
              "       [17],\n",
              "       [18],\n",
              "       [19],\n",
              "       [20],\n",
              "       [21],\n",
              "       [22],\n",
              "       [23],\n",
              "       [24],\n",
              "       [ 1],\n",
              "       [ 2],\n",
              "       [ 3],\n",
              "       [ 4],\n",
              "       [ 5],\n",
              "       [ 6],\n",
              "       [ 7],\n",
              "       [ 8],\n",
              "       [ 9],\n",
              "       [10],\n",
              "       [11],\n",
              "       [12],\n",
              "       [13],\n",
              "       [14],\n",
              "       [15],\n",
              "       [15],\n",
              "       [17],\n",
              "       [18],\n",
              "       [19],\n",
              "       [20],\n",
              "       [21],\n",
              "       [22],\n",
              "       [23],\n",
              "       [24],\n",
              "       [23],\n",
              "       [22],\n",
              "       [ 8],\n",
              "       [ 9],\n",
              "       [10],\n",
              "       [11],\n",
              "       [12],\n",
              "       [13],\n",
              "       [14],\n",
              "       [15],\n",
              "       [15],\n",
              "       [17],\n",
              "       [ 1],\n",
              "       [ 2],\n",
              "       [ 3],\n",
              "       [ 4],\n",
              "       [ 5],\n",
              "       [ 6],\n",
              "       [ 7],\n",
              "       [ 8],\n",
              "       [ 9],\n",
              "       [10],\n",
              "       [11],\n",
              "       [12],\n",
              "       [13],\n",
              "       [14],\n",
              "       [15],\n",
              "       [16],\n",
              "       [17],\n",
              "       [18],\n",
              "       [19],\n",
              "       [20],\n",
              "       [21],\n",
              "       [22],\n",
              "       [23],\n",
              "       [24],\n",
              "       [21],\n",
              "       [22],\n",
              "       [22],\n",
              "       [23],\n",
              "       [22],\n",
              "       [23],\n",
              "       [11],\n",
              "       [12],\n",
              "       [23],\n",
              "       [24],\n",
              "       [15],\n",
              "       [17],\n",
              "       [18],\n",
              "       [ 9],\n",
              "       [20],\n",
              "       [ 1],\n",
              "       [ 2],\n",
              "       [ 3],\n",
              "       [14],\n",
              "       [15],\n",
              "       [ 6],\n",
              "       [17],\n",
              "       [ 8],\n",
              "       [19],\n",
              "       [10],\n",
              "       [ 1],\n",
              "       [ 1],\n",
              "       [ 2],\n",
              "       [ 3],\n",
              "       [ 4],\n",
              "       [ 5],\n",
              "       [ 6],\n",
              "       [ 7],\n",
              "       [ 8],\n",
              "       [ 9],\n",
              "       [10],\n",
              "       [ 2],\n",
              "       [ 5],\n",
              "       [ 6],\n",
              "       [ 2],\n",
              "       [ 8],\n",
              "       [ 9],\n",
              "       [ 7],\n",
              "       [ 4],\n",
              "       [ 3],\n",
              "       [ 5],\n",
              "       [ 6],\n",
              "       [ 7],\n",
              "       [ 1],\n",
              "       [ 5],\n",
              "       [ 9],\n",
              "       [ 6],\n",
              "       [ 7],\n",
              "       [ 2],\n",
              "       [ 9],\n",
              "       [ 4],\n",
              "       [ 6],\n",
              "       [12],\n",
              "       [20],\n",
              "       [15],\n",
              "       [13],\n",
              "       [ 5],\n",
              "       [19],\n",
              "       [24],\n",
              "       [23],\n",
              "       [10],\n",
              "       [14],\n",
              "       [19],\n",
              "       [16],\n",
              "       [11],\n",
              "       [ 2],\n",
              "       [13],\n",
              "       [18],\n",
              "       [16],\n",
              "       [18],\n",
              "       [20],\n",
              "       [ 1],\n",
              "       [ 9],\n",
              "       [ 7],\n",
              "       [20],\n",
              "       [10],\n",
              "       [ 3],\n",
              "       [18],\n",
              "       [10],\n",
              "       [19],\n",
              "       [24],\n",
              "       [ 1],\n",
              "       [ 2],\n",
              "       [ 3],\n",
              "       [ 4],\n",
              "       [ 5],\n",
              "       [ 6],\n",
              "       [ 7],\n",
              "       [ 8],\n",
              "       [ 9],\n",
              "       [10],\n",
              "       [ 2],\n",
              "       [ 1],\n",
              "       [ 2],\n",
              "       [ 1],\n",
              "       [ 2],\n",
              "       [ 1],\n",
              "       [ 5],\n",
              "       [ 6],\n",
              "       [ 2],\n",
              "       [ 3],\n",
              "       [10],\n",
              "       [10],\n",
              "       [11],\n",
              "       [12],\n",
              "       [15],\n",
              "       [16],\n",
              "       [17],\n",
              "       [18],\n",
              "       [16],\n",
              "       [20],\n",
              "       [ 1],\n",
              "       [ 2],\n",
              "       [ 3],\n",
              "       [ 4],\n",
              "       [ 5],\n",
              "       [ 6],\n",
              "       [ 8],\n",
              "       [ 9],\n",
              "       [ 7],\n",
              "       [ 1],\n",
              "       [10],\n",
              "       [19],\n",
              "       [13],\n",
              "       [15],\n",
              "       [16],\n",
              "       [14],\n",
              "       [25],\n",
              "       [24],\n",
              "       [23],\n",
              "       [19],\n",
              "       [11],\n",
              "       [12],\n",
              "       [15],\n",
              "       [14],\n",
              "       [16],\n",
              "       [13],\n",
              "       [15],\n",
              "       [12],\n",
              "       [12],\n",
              "       [20],\n",
              "       [ 1],\n",
              "       [ 2],\n",
              "       [ 3],\n",
              "       [ 4],\n",
              "       [ 5],\n",
              "       [ 6],\n",
              "       [ 7],\n",
              "       [ 8],\n",
              "       [ 9],\n",
              "       [10],\n",
              "       [11],\n",
              "       [12],\n",
              "       [13],\n",
              "       [14],\n",
              "       [15],\n",
              "       [16],\n",
              "       [17],\n",
              "       [18],\n",
              "       [19],\n",
              "       [20],\n",
              "       [21],\n",
              "       [22],\n",
              "       [23],\n",
              "       [24],\n",
              "       [ 1],\n",
              "       [ 2],\n",
              "       [ 3],\n",
              "       [ 4],\n",
              "       [ 5],\n",
              "       [ 6],\n",
              "       [ 7],\n",
              "       [ 8],\n",
              "       [ 9],\n",
              "       [10],\n",
              "       [11],\n",
              "       [12],\n",
              "       [13],\n",
              "       [14],\n",
              "       [15],\n",
              "       [16],\n",
              "       [17],\n",
              "       [18],\n",
              "       [19],\n",
              "       [20],\n",
              "       [21],\n",
              "       [22],\n",
              "       [23],\n",
              "       [24],\n",
              "       [ 1],\n",
              "       [ 2],\n",
              "       [ 1],\n",
              "       [ 2],\n",
              "       [ 3],\n",
              "       [ 4],\n",
              "       [ 5],\n",
              "       [ 6],\n",
              "       [ 7],\n",
              "       [ 8],\n",
              "       [ 9],\n",
              "       [10],\n",
              "       [ 1],\n",
              "       [ 2],\n",
              "       [ 3],\n",
              "       [ 4],\n",
              "       [ 5],\n",
              "       [ 6],\n",
              "       [ 7],\n",
              "       [ 8],\n",
              "       [ 9],\n",
              "       [10],\n",
              "       [11],\n",
              "       [12],\n",
              "       [13],\n",
              "       [14],\n",
              "       [15],\n",
              "       [16],\n",
              "       [17],\n",
              "       [18],\n",
              "       [19],\n",
              "       [20],\n",
              "       [21],\n",
              "       [22],\n",
              "       [23],\n",
              "       [24],\n",
              "       [25],\n",
              "       [26],\n",
              "       [27],\n",
              "       [28],\n",
              "       [29],\n",
              "       [30],\n",
              "       [31],\n",
              "       [32],\n",
              "       [33],\n",
              "       [34],\n",
              "       [35],\n",
              "       [36],\n",
              "       [37],\n",
              "       [38],\n",
              "       [39],\n",
              "       [40],\n",
              "       [41],\n",
              "       [42],\n",
              "       [43],\n",
              "       [44],\n",
              "       [45],\n",
              "       [46],\n",
              "       [47],\n",
              "       [48],\n",
              "       [49],\n",
              "       [50],\n",
              "       [51],\n",
              "       [52],\n",
              "       [53],\n",
              "       [54],\n",
              "       [55],\n",
              "       [56],\n",
              "       [57],\n",
              "       [58],\n",
              "       [59],\n",
              "       [60]])"
            ]
          },
          "metadata": {},
          "execution_count": 100
        }
      ]
    },
    {
      "cell_type": "code",
      "source": [
        "y"
      ],
      "metadata": {
        "colab": {
          "base_uri": "https://localhost:8080/"
        },
        "id": "fyt6BnTcjdOd",
        "outputId": "c7aff0fc-c4d6-43e7-e6b5-151380a14053"
      },
      "execution_count": null,
      "outputs": [
        {
          "output_type": "execute_result",
          "data": {
            "text/plain": [
              "array([ 60,  65,  70,  75,  80,  85,  90,  92,  95,  98, 100,  61,  66,\n",
              "        71,  76,  81,  86,  91,  93,  96,  99, 100,  62,  67,  72,  77,\n",
              "        82,  87,  92,  94,  97,  60,  65,  70,  75,  80,  85,  90,  92,\n",
              "        95,  98, 100,  61,  66,  71,  76,  81,  86,  91,  93,  96,  99,\n",
              "       100,  62, 670,  72,  77,  82,  87,  92,  94,  97,  99, 100,  63,\n",
              "        68,  73,  78,  83,  88,   4,   8,  13,  17,  21,  25,  29,  33,\n",
              "        38,  42,   8,  21,  63,  25,  29,  33,  50,   4,  29,  21,  58,\n",
              "        21,  71,  33,  38,  46, 100,  13,  63,  25,  33,  29,  42,   8,\n",
              "        58,  13,  21,  29,  21,  54,  46,   8,  33,  63,  38,  25,  21,\n",
              "        33,  79,  17,  75,  29,  13,  50,  96,  17,  42,  13,  50,  67,\n",
              "        60,  70,  75,  80,  85,  90,  92,  94,  96,  98, 100,  60,  70,\n",
              "        75,  80,  85,  90,  92,  94,  96,  98, 100,  75,  80,  85,  92,\n",
              "        94,  96,  98, 100,  75,  80,  90,  92,  94,  96,  98, 100,  75,\n",
              "        80,  85,  92,  94,  96,  98, 100,  75,  80,  90,  92,  94,  75,\n",
              "        80,  85,  90,  92,  94,  96,  98, 100,  60,  70,  75,  80,  85,\n",
              "        90,  92,  94,  96,  98,  99, 100,  50,  60,  70,  80,  85,  87,\n",
              "        89,  90,  93,  95,  97,  98,  40,  50,  55,  60,  65,  70,  75,\n",
              "        80,  85,  90,  95, 100,  50,  55,  60,  65,  70,  76,  80,  80,\n",
              "        85,  90,  95,  98,  40,  50,  60,  70,  75,  80,  82,  84,  86,\n",
              "        90,  95, 100,  30,  60,  70,  75,  80,  85,  90,  92,  94,  96,\n",
              "        98,  80,  85,  90,  92,  94,  96,  98,  60,  70,  75,  80,  60,\n",
              "        70,  75,  80,  85,  90,  85,  90,  92,  94,  96,  98,  80,  70,\n",
              "        71,  60,  61,  66,  70,  80,  81,  76,  88,  91,  94, 100,  62,\n",
              "        65,  75,  71,  60,  61,  66,  70,  80,  81,  76,  88,  91,  60,\n",
              "        62,  64,  66,  68,  70,  72,  74,  76,  78,  80,  82,  84,  86,\n",
              "        88,  90,  92,  94,  96,  98, 100, 100, 100, 100, 100, 100, 100,\n",
              "       100, 100, 100, 100, 100, 100, 100, 100, 100, 100, 100, 100, 100,\n",
              "       100, 100, 100, 100, 100, 100, 100, 100, 100, 100,  60,  70,  75,\n",
              "        80,  85,  90,  92,  94,  96,  98, 100,  26,  14,  56,  30,  45,\n",
              "        10,  11,  96,  20,  20,  56,  78,  12,  45,  63,  78,  25,  47,\n",
              "        96,  85,  35,  14,  20,  78,  36,  96,  65,  24,  12,  27,  36,\n",
              "        47,  98,  75, 100,  45,  96,  34,  14,  78,  76,  91,  63,  57,\n",
              "        29,  46,  71,  52,  43,  60,  70,  75,  80,  85,  90,  92,  94,\n",
              "        96,  98,  60,  50,  20,  50,  20,  60,  60,  30,  30,  15,  75,\n",
              "        82,  87,  91,  78,  89,  94,  81,  76,  93,  23,  34,  45,  18,\n",
              "        50,  29,  12,  56,  37,  41,  89,  93,  82,  87,  91,  95,  84,\n",
              "        88,  83,  90,  81,  94,  86,  85,  97,  92,  98,  80,  96,  99,\n",
              "        10,  20,  25,  30,  35,  40,  42,  44,  46,  48,  51,  53,  57,\n",
              "        59,  64,  67,  69,  70,  75,  80,  85,  90,  95, 100,  10,  20,\n",
              "        25,  30,  35,  40,  42,  44,  46,  48,  51,  53,  57,  59,  64,\n",
              "        67,  69,  70,  75,  80,  85,  90,  95, 100,  10,  20,  10,  20,\n",
              "        25,  30,  35,  40,  42,  44,  46,  48,  60,  70,  75,  80,  85,\n",
              "        90,  92,  94,  96,  98,  85,  87,  89,  91,  93,  95,  97,  99,\n",
              "        92,  93,  94,  95,  96,  97,  98,  99,  85,  86,  87,  88,  89,\n",
              "        90,  91,  92,  93,  94,  95,  96,  97,  98,  99,  92,  93,  94,\n",
              "        95,  96,  97,  98,  99,  97,  98,  99,  95,  96,  97,  98,  92,\n",
              "        99,  93,  87])"
            ]
          },
          "metadata": {},
          "execution_count": 101
        }
      ]
    },
    {
      "cell_type": "markdown",
      "source": [
        "Luego, se puede ajustar la línea de regresión utilizando el modelo de regresión lineal de Scikit-learn:"
      ],
      "metadata": {
        "id": "sFIjm6C6lcMb"
      }
    },
    {
      "cell_type": "code",
      "source": [
        "# Verificar si hay NaN en todo el DataFrame\n",
        "print(data.isna().sum())\n"
      ],
      "metadata": {
        "colab": {
          "base_uri": "https://localhost:8080/"
        },
        "id": "CdMuqVJ5WWAi",
        "outputId": "f42519bc-f0f6-4be8-bd7b-fd7f7764f972"
      },
      "execution_count": null,
      "outputs": [
        {
          "output_type": "stream",
          "name": "stdout",
          "text": [
            "Tiempo          0\n",
            "Calificación    0\n",
            "dtype: int64\n"
          ]
        }
      ]
    },
    {
      "cell_type": "code",
      "source": [
        "# Separar X y y\n",
        "X = data[['Tiempo']]\n",
        "y = data['Calificación']"
      ],
      "metadata": {
        "id": "1NvcSWGqUewl"
      },
      "execution_count": null,
      "outputs": []
    },
    {
      "cell_type": "code",
      "source": [
        "# ajustar el modelo de regresión lineal\n",
        "regressor = LinearRegression()\n",
        "regressor.fit(X, y)"
      ],
      "metadata": {
        "colab": {
          "base_uri": "https://localhost:8080/",
          "height": 74
        },
        "id": "ip2FAZU_jq6-",
        "outputId": "8ac78a14-d230-4e0f-c8c7-53e4d0eb57d4"
      },
      "execution_count": null,
      "outputs": [
        {
          "output_type": "execute_result",
          "data": {
            "text/plain": [
              "LinearRegression()"
            ],
            "text/html": [
              "<style>#sk-container-id-2 {color: black;background-color: white;}#sk-container-id-2 pre{padding: 0;}#sk-container-id-2 div.sk-toggleable {background-color: white;}#sk-container-id-2 label.sk-toggleable__label {cursor: pointer;display: block;width: 100%;margin-bottom: 0;padding: 0.3em;box-sizing: border-box;text-align: center;}#sk-container-id-2 label.sk-toggleable__label-arrow:before {content: \"▸\";float: left;margin-right: 0.25em;color: #696969;}#sk-container-id-2 label.sk-toggleable__label-arrow:hover:before {color: black;}#sk-container-id-2 div.sk-estimator:hover label.sk-toggleable__label-arrow:before {color: black;}#sk-container-id-2 div.sk-toggleable__content {max-height: 0;max-width: 0;overflow: hidden;text-align: left;background-color: #f0f8ff;}#sk-container-id-2 div.sk-toggleable__content pre {margin: 0.2em;color: black;border-radius: 0.25em;background-color: #f0f8ff;}#sk-container-id-2 input.sk-toggleable__control:checked~div.sk-toggleable__content {max-height: 200px;max-width: 100%;overflow: auto;}#sk-container-id-2 input.sk-toggleable__control:checked~label.sk-toggleable__label-arrow:before {content: \"▾\";}#sk-container-id-2 div.sk-estimator input.sk-toggleable__control:checked~label.sk-toggleable__label {background-color: #d4ebff;}#sk-container-id-2 div.sk-label input.sk-toggleable__control:checked~label.sk-toggleable__label {background-color: #d4ebff;}#sk-container-id-2 input.sk-hidden--visually {border: 0;clip: rect(1px 1px 1px 1px);clip: rect(1px, 1px, 1px, 1px);height: 1px;margin: -1px;overflow: hidden;padding: 0;position: absolute;width: 1px;}#sk-container-id-2 div.sk-estimator {font-family: monospace;background-color: #f0f8ff;border: 1px dotted black;border-radius: 0.25em;box-sizing: border-box;margin-bottom: 0.5em;}#sk-container-id-2 div.sk-estimator:hover {background-color: #d4ebff;}#sk-container-id-2 div.sk-parallel-item::after {content: \"\";width: 100%;border-bottom: 1px solid gray;flex-grow: 1;}#sk-container-id-2 div.sk-label:hover label.sk-toggleable__label {background-color: #d4ebff;}#sk-container-id-2 div.sk-serial::before {content: \"\";position: absolute;border-left: 1px solid gray;box-sizing: border-box;top: 0;bottom: 0;left: 50%;z-index: 0;}#sk-container-id-2 div.sk-serial {display: flex;flex-direction: column;align-items: center;background-color: white;padding-right: 0.2em;padding-left: 0.2em;position: relative;}#sk-container-id-2 div.sk-item {position: relative;z-index: 1;}#sk-container-id-2 div.sk-parallel {display: flex;align-items: stretch;justify-content: center;background-color: white;position: relative;}#sk-container-id-2 div.sk-item::before, #sk-container-id-2 div.sk-parallel-item::before {content: \"\";position: absolute;border-left: 1px solid gray;box-sizing: border-box;top: 0;bottom: 0;left: 50%;z-index: -1;}#sk-container-id-2 div.sk-parallel-item {display: flex;flex-direction: column;z-index: 1;position: relative;background-color: white;}#sk-container-id-2 div.sk-parallel-item:first-child::after {align-self: flex-end;width: 50%;}#sk-container-id-2 div.sk-parallel-item:last-child::after {align-self: flex-start;width: 50%;}#sk-container-id-2 div.sk-parallel-item:only-child::after {width: 0;}#sk-container-id-2 div.sk-dashed-wrapped {border: 1px dashed gray;margin: 0 0.4em 0.5em 0.4em;box-sizing: border-box;padding-bottom: 0.4em;background-color: white;}#sk-container-id-2 div.sk-label label {font-family: monospace;font-weight: bold;display: inline-block;line-height: 1.2em;}#sk-container-id-2 div.sk-label-container {text-align: center;}#sk-container-id-2 div.sk-container {/* jupyter's `normalize.less` sets `[hidden] { display: none; }` but bootstrap.min.css set `[hidden] { display: none !important; }` so we also need the `!important` here to be able to override the default hidden behavior on the sphinx rendered scikit-learn.org. See: https://github.com/scikit-learn/scikit-learn/issues/21755 */display: inline-block !important;position: relative;}#sk-container-id-2 div.sk-text-repr-fallback {display: none;}</style><div id=\"sk-container-id-2\" class=\"sk-top-container\"><div class=\"sk-text-repr-fallback\"><pre>LinearRegression()</pre><b>In a Jupyter environment, please rerun this cell to show the HTML representation or trust the notebook. <br />On GitHub, the HTML representation is unable to render, please try loading this page with nbviewer.org.</b></div><div class=\"sk-container\" hidden><div class=\"sk-item\"><div class=\"sk-estimator sk-toggleable\"><input class=\"sk-toggleable__control sk-hidden--visually\" id=\"sk-estimator-id-2\" type=\"checkbox\" checked><label for=\"sk-estimator-id-2\" class=\"sk-toggleable__label sk-toggleable__label-arrow\">LinearRegression</label><div class=\"sk-toggleable__content\"><pre>LinearRegression()</pre></div></div></div></div></div>"
            ]
          },
          "metadata": {},
          "execution_count": 90
        }
      ]
    },
    {
      "cell_type": "markdown",
      "source": [
        "Finalmente, se puede visualizar la línea de regresión y predecir la calificación del estudiante en función del tiempo que estudia:"
      ],
      "metadata": {
        "id": "umVgczTslmb_"
      }
    },
    {
      "cell_type": "code",
      "source": [
        "# visualizar la línea de regresión\n",
        "plt.scatter(X, y, color='blue')\n",
        "plt.plot(X, regressor.predict(X), color='red')\n",
        "plt.title('Tiempo de estudio vs Calificación del porcentaje')\n",
        "plt.xlabel('Tiempo')\n",
        "plt.ylabel('Calificación')\n",
        "plt.show()\n",
        "\n",
        "# Predecir la calificación de un estudiante que invierte 10 horas de estudio\n",
        "Tiempo_estudio = [[10]]\n",
        "print(\"Calificación predicha:\", regressor.predict(Tiempo_estudio))"
      ],
      "metadata": {
        "colab": {
          "base_uri": "https://localhost:8080/",
          "height": 524
        },
        "id": "j6k44Ve2jxOX",
        "outputId": "e6933c7a-853e-4fc2-c72b-261cd28c6b56"
      },
      "execution_count": null,
      "outputs": [
        {
          "output_type": "display_data",
          "data": {
            "text/plain": [
              "<Figure size 640x480 with 1 Axes>"
            ],
            "image/png": "[encoded data removed]"
          },
          "metadata": {}
        },
        {
          "output_type": "stream",
          "name": "stdout",
          "text": [
            "Calificación predicha: [70.55990484]\n"
          ]
        },
        {
          "output_type": "stream",
          "name": "stderr",
          "text": [
            "/usr/local/lib/python3.10/dist-packages/sklearn/base.py:439: UserWarning: X does not have valid feature names, but LinearRegression was fitted with feature names\n",
            "  warnings.warn(\n"
          ]
        }
      ]
    },
    {
      "cell_type": "markdown",
      "source": [
        "**EVALUACIÓN DEL MODELO**\n",
        "\n",
        "Para evaluar la calidad de un modelo de regresión lineal, hay varias métricas que se pueden utilizar. Aquí se presentan algunas de las más comunes:"
      ],
      "metadata": {
        "id": "9F3ynKONm0wP"
      }
    },
    {
      "cell_type": "markdown",
      "source": [
        "**1. Error cuadrático medio (MSE):** Esta métrica calcula el promedio de los errores al cuadrado entre las predicciones y los valores reales. Un MSE más bajo indica un mejor ajuste del modelo."
      ],
      "metadata": {
        "id": "ouUR1jR2m_z_"
      }
    },
    {
      "cell_type": "code",
      "source": [
        "from sklearn.metrics import mean_squared_error\n",
        "\n",
        "# calcular el MSE\n",
        "y_pred = regressor.predict(X)\n",
        "mse = mean_squared_error(y, y_pred)\n",
        "print(\"MSE:\", mse)"
      ],
      "metadata": {
        "colab": {
          "base_uri": "https://localhost:8080/"
        },
        "id": "9mnD_vcMm6Vm",
        "outputId": "576f393f-cc3a-497b-ef73-43654dccd585"
      },
      "execution_count": null,
      "outputs": [
        {
          "output_type": "stream",
          "name": "stdout",
          "text": [
            "MSE: 1169.0187968597616\n"
          ]
        }
      ]
    },
    {
      "cell_type": "markdown",
      "source": [
        "**2. Coeficiente de determinación (R2):** Esta métrica mide la proporción de la varianza en la variable dependiente que se puede explicar por la variable independiente. Un R2 más alto indica un mejor ajuste del modelo."
      ],
      "metadata": {
        "id": "j9C2wEQ7nOkq"
      }
    },
    {
      "cell_type": "code",
      "source": [
        "from sklearn.metrics import r2_score\n",
        "\n",
        "# calcular el R2\n",
        "r2 = r2_score(y, y_pred)\n",
        "print(\"R2:\", r2)"
      ],
      "metadata": {
        "colab": {
          "base_uri": "https://localhost:8080/"
        },
        "id": "fhmCMGSpnW8i",
        "outputId": "d7e77b21-4a93-4678-9ede-3a9de8fd696b"
      },
      "execution_count": null,
      "outputs": [
        {
          "output_type": "stream",
          "name": "stdout",
          "text": [
            "R2: 0.07861509731752914\n"
          ]
        }
      ]
    },
    {
      "cell_type": "markdown",
      "source": [
        "**3. Gráfico de residuos:** Un gráfico de residuos muestra la diferencia entre los valores reales y las predicciones en función de las variables independientes. Si las predicciones son precisas, los residuos deberían estar distribuidos aleatoriamente alrededor de cero. Si hay un patrón en los residuos, puede ser una indicación de que el modelo no está capturando completamente las relaciones entre las variables."
      ],
      "metadata": {
        "id": "rJH7GkaDna5Y"
      }
    },
    {
      "cell_type": "code",
      "source": [
        "# Crear un gráfico de residuos\n",
        "residuos = y - y_pred\n",
        "plt.scatter(X, residuos, color='red')\n",
        "plt.axhline(y=0, color='black', linestyle='--')\n",
        "plt.title('Gráfico de residuos')\n",
        "plt.xlabel('Tiempo')\n",
        "plt.ylabel('Residuos')\n",
        "plt.grid(True)\n",
        "plt.show()"
      ],
      "metadata": {
        "colab": {
          "base_uri": "https://localhost:8080/",
          "height": 472
        },
        "id": "AT2xDZZxnhGC",
        "outputId": "e21a1862-0bcd-4771-f8d3-e120485c5115"
      },
      "execution_count": null,
      "outputs": [
        {
          "output_type": "display_data",
          "data": {
            "text/plain": [
              "<Figure size 640x480 with 1 Axes>"
            ],
            "image/png": "[encoded data removed]"
          },
          "metadata": {}
        }
      ]
    },
    {
      "cell_type": "markdown",
      "source": [
        "Estas métricas pueden ayudar a evaluar la calidad de un modelo de regresión lineal y determinar si es adecuado para el conjunto de datos y el problema en cuestión. Es importante tener en cuenta que ninguna métrica por sí sola puede decir si un modelo es adecuado, por lo que se deben considerar varias métricas en conjunto."
      ],
      "metadata": {
        "id": "lhBS_GEpn0Tz"
      }
    }
  ]
}