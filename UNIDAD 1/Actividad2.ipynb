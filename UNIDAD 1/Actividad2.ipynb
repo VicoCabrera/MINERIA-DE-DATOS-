{
 "cells": [
  {
   "cell_type": "code",
   "execution_count": 1,
   "id": "61529961-6c45-4340-8701-ea164fa7b5d4",
   "metadata": {},
   "outputs": [
    {
     "name": "stdout",
     "output_type": "stream",
     "text": [
      "Defaulting to user installation because normal site-packages is not writeable\n",
      "Collecting mysql.connector\n",
      "  Using cached mysql-connector-2.2.9.tar.gz (11.9 MB)\n",
      "  Preparing metadata (setup.py): started\n",
      "  Preparing metadata (setup.py): finished with status 'error'\n"
     ]
    },
    {
     "name": "stderr",
     "output_type": "stream",
     "text": [
      "  ERROR: Error [WinError 225] No se pudo completar la operación porque el archivo contiene un virus o software potencialmente no deseado while executing command python setup.py egg_info\n",
      "ERROR: Could not install packages due to an OSError: [WinError 225] No se pudo completar la operación porque el archivo contiene un virus o software potencialmente no deseado\n",
      "\n"
     ]
    }
   ],
   "source": [
    "!pip install mysql.connector"
   ]
  },
  {
   "cell_type": "code",
   "execution_count": 2,
   "id": "57473b30-1ccc-45c1-afd1-8b35ad75bb6d",
   "metadata": {},
   "outputs": [
    {
     "name": "stdout",
     "output_type": "stream",
     "text": [
      "Defaulting to user installation because normal site-packages is not writeable\n",
      "Requirement already satisfied: xlrd in c:\\users\\zenbook\\appdata\\roaming\\python\\python311\\site-packages (2.0.1)\n",
      "Note: you may need to restart the kernel to use updated packages.\n"
     ]
    }
   ],
   "source": [
    "pip install xlrd"
   ]
  },
  {
   "cell_type": "code",
   "execution_count": 3,
   "id": "4082f87c-ca37-4170-80af-d7f32665af71",
   "metadata": {},
   "outputs": [
    {
     "name": "stdout",
     "output_type": "stream",
     "text": [
      "Defaulting to user installation because normal site-packages is not writeable\n",
      "Requirement already satisfied: mysql-connector-python in c:\\users\\zenbook\\appdata\\roaming\\python\\python311\\site-packages (8.3.0)\n",
      "Note: you may need to restart the kernel to use updated packages.\n"
     ]
    }
   ],
   "source": [
    "pip install --upgrade mysql-connector-python"
   ]
  },
  {
   "cell_type": "code",
   "execution_count": 1414,
   "id": "19c7b1dd-ea88-40ff-9fa7-06c2d321dc6f",
   "metadata": {},
   "outputs": [],
   "source": [
    "#1. IMPORTAMOS LIBRERIAS NECESARIAS\n",
    "\n",
    "import mysql.connector\n",
    "import pandas as pd\n"
   ]
  },
  {
   "cell_type": "code",
   "execution_count": 1415,
   "id": "5975826f-5cf8-48db-871b-adc7782adb46",
   "metadata": {},
   "outputs": [
    {
     "data": {
      "text/html": [
       "<div>\n",
       "<style scoped>\n",
       "    .dataframe tbody tr th:only-of-type {\n",
       "        vertical-align: middle;\n",
       "    }\n",
       "\n",
       "    .dataframe tbody tr th {\n",
       "        vertical-align: top;\n",
       "    }\n",
       "\n",
       "    .dataframe thead th {\n",
       "        text-align: right;\n",
       "    }\n",
       "</style>\n",
       "<table border=\"1\" class=\"dataframe\">\n",
       "  <thead>\n",
       "    <tr style=\"text-align: right;\">\n",
       "      <th></th>\n",
       "      <th>Unnamed: 0</th>\n",
       "      <th>Nombre</th>\n",
       "      <th>Edad</th>\n",
       "      <th>Puntuacion</th>\n",
       "      <th>Sexo</th>\n",
       "    </tr>\n",
       "  </thead>\n",
       "  <tbody>\n",
       "    <tr>\n",
       "      <th>0</th>\n",
       "      <td>0</td>\n",
       "      <td>Anthony Wallace</td>\n",
       "      <td>46</td>\n",
       "      <td>86</td>\n",
       "      <td>M</td>\n",
       "    </tr>\n",
       "    <tr>\n",
       "      <th>1</th>\n",
       "      <td>1</td>\n",
       "      <td>Steven Barker</td>\n",
       "      <td>25</td>\n",
       "      <td>67</td>\n",
       "      <td>F</td>\n",
       "    </tr>\n",
       "    <tr>\n",
       "      <th>2</th>\n",
       "      <td>2</td>\n",
       "      <td>Barry Graham</td>\n",
       "      <td>56</td>\n",
       "      <td>82</td>\n",
       "      <td>M</td>\n",
       "    </tr>\n",
       "    <tr>\n",
       "      <th>3</th>\n",
       "      <td>3</td>\n",
       "      <td>Austin Jackson</td>\n",
       "      <td>40</td>\n",
       "      <td>92</td>\n",
       "      <td>M</td>\n",
       "    </tr>\n",
       "    <tr>\n",
       "      <th>4</th>\n",
       "      <td>6</td>\n",
       "      <td>Zachary Sampson</td>\n",
       "      <td>20</td>\n",
       "      <td>85</td>\n",
       "      <td>M</td>\n",
       "    </tr>\n",
       "  </tbody>\n",
       "</table>\n",
       "</div>"
      ],
      "text/plain": [
       "   Unnamed: 0           Nombre  Edad  Puntuacion Sexo\n",
       "0           0  Anthony Wallace    46          86    M\n",
       "1           1    Steven Barker    25          67    F\n",
       "2           2     Barry Graham    56          82    M\n",
       "3           3   Austin Jackson    40          92    M\n",
       "4           6  Zachary Sampson    20          85    M"
      ]
     },
     "execution_count": 1415,
     "metadata": {},
     "output_type": "execute_result"
    }
   ],
   "source": [
    "# CARGAMOS LA DATA\n",
    "\n",
    "ruta_archivo_excel=\"Datos sin nulos.xlsx\"\n",
    "df=pd.read_excel(ruta_archivo_excel)\n",
    "df.head()"
   ]
  },
  {
   "cell_type": "code",
   "execution_count": 1416,
   "id": "224f1e20-8412-43a5-89ac-0180843db4d7",
   "metadata": {},
   "outputs": [],
   "source": [
    "# CONEXION A LA BASE DE DATOS\n",
    "\n",
    "# METODO PARA CONECTAR A LA BASE DE DATOS\n",
    "\n",
    "def establecer_conexion(host, user, password, database):\n",
    "  try:\n",
    "      conexion = mysql.connector.connect(\n",
    "          host = host,\n",
    "          user = user,\n",
    "          password = password,\n",
    "          database = database)\n",
    "      return conexion\n",
    "  except mysql.connector.Error as err:\n",
    "        print(f\"Error:{ err}\")\n",
    "        return None"
   ]
  },
  {
   "cell_type": "code",
   "execution_count": 1417,
   "id": "b7b6fe9c-7e3f-4a8e-854f-6b23f7c3c371",
   "metadata": {},
   "outputs": [
    {
     "data": {
      "text/plain": [
       "True"
      ]
     },
     "execution_count": 1417,
     "metadata": {},
     "output_type": "execute_result"
    }
   ],
   "source": [
    "conexion = establecer_conexion(\"localhost\", \"root\", \"\", \"estudiante\")\n",
    "#Comprobación de la conexión\n",
    "conexion.is_connected()"
   ]
  },
  {
   "cell_type": "code",
   "execution_count": 1418,
   "id": "40a7a916-a868-43d4-848e-ac6d752656a0",
   "metadata": {},
   "outputs": [],
   "source": [
    "# ELIMINAR LOS DATOS DE LA BASE DE DATOS\n",
    "\n",
    "def eliminar_datos_base(conexion):\n",
    "    try:\n",
    "        # Desactivar las restricciones de clave externa para permitir la eliminación\n",
    "        #with conexion.cursor() as cursor:\n",
    "            #cursor.execute(\"SET FOREIGN_KEY_CHECKS=0;\")\n",
    "        cursor=conexion.cursor()\n",
    "        # Eliminar datos de las tablas\n",
    "        delete_queries = [\n",
    "            'DELETE FROM estudiante;',\n",
    "            'DELETE FROM genero;',\n",
    "            'DELETE FROM estudiante_stg;',]\n",
    "\n",
    "        for query in delete_queries:\n",
    "            cursor.execute(query)\n",
    "\n",
    "        # Reiniciar los contadores de autoincremento\n",
    "        reset_auto_increment_queries = [\n",
    "            'ALTER TABLE estudiante AUTO_INCREMENT = 1;',\n",
    "            'ALTER TABLE genero AUTO_INCREMENT = 1;',\n",
    "            'ALTER TABLE estudiante_stg AUTO_INCREMENT = 1;']\n",
    "\n",
    "        for query in reset_auto_increment_queries:\n",
    "            cursor.execute(query)\n",
    "\n",
    "        # Confirmar los cambios\n",
    "        conexion.commit()\n",
    "\n",
    "        print(\"Base de datos limpiada exitosamente.\")\n",
    "\n",
    "    except Exception as e:\n",
    "        print(f\"Error al limpiar la base de datos: {e}\")\n",
    "\n",
    "    finally:\n",
    "        # Reactivar las restricciones de clave externa\n",
    "        print(\".....\")"
   ]
  },
  {
   "cell_type": "code",
   "execution_count": 1390,
   "id": "ceaf0574-2910-414d-b3a4-927a5811328c",
   "metadata": {},
   "outputs": [
    {
     "name": "stdout",
     "output_type": "stream",
     "text": [
      "Base de datos limpiada exitosamente.\n",
      ".....\n"
     ]
    }
   ],
   "source": [
    "eliminar_datos_base(conexion)"
   ]
  },
  {
   "cell_type": "code",
   "execution_count": 1419,
   "id": "c956b0cc-ed35-4c97-857e-e3f6b4fa81b6",
   "metadata": {},
   "outputs": [],
   "source": [
    "# INSERTAR DATOS EN LA TABLA ESTUDIANTE_STG\n",
    "\n",
    "def insert_estudiante_stg(conexion, df):\n",
    "    cursor = conexion.cursor()\n",
    "\n",
    "    insert_query = \"INSERT INTO estudiante_stg(Nombre,Edad,Puntuacion,Genero) VALUES (%s, %s, %s, %s)\"\n",
    "\n",
    "    try:\n",
    "        for index, row in df.iterrows():\n",
    "            estudiante_data = (row['Nombre'], row['Edad'], row['Puntuacion'], row['Sexo'])\n",
    "            cursor.execute(insert_query, estudiante_data)\n",
    "\n",
    "        conexion.commit()\n",
    "        print(f\"Datos insertados correctamente\")\n",
    "\n",
    "    except Exception as e:\n",
    "        print(f\"Error al insertar datos: {e}\")\n",
    "\n",
    "    finally:\n",
    "        cursor.close()"
   ]
  },
  {
   "cell_type": "code",
   "execution_count": 1420,
   "id": "a62608f9-8eba-4eba-ac72-ff95d00dbea2",
   "metadata": {},
   "outputs": [
    {
     "name": "stdout",
     "output_type": "stream",
     "text": [
      "Datos insertados correctamente\n"
     ]
    }
   ],
   "source": [
    "insert_estudiante_stg(conexion, df)"
   ]
  },
  {
   "cell_type": "code",
   "execution_count": 1421,
   "id": "a7cfecbf-8268-4301-a75f-b1532240ccf2",
   "metadata": {},
   "outputs": [],
   "source": [
    "# LIMPIAR DATOS INNECESARIOS DE ESTUDIANTE\n",
    "\n",
    "def limpiar_datos_estudiante_stg(conexion):\n",
    "    try:\n",
    "        # Desactivar las restricciones de clave externa para permitir la eliminación\n",
    "        with conexion.cursor() as cursor:\n",
    "            cursor.execute(\"SET FOREIGN_KEY_CHECKS=0;\")\n",
    "\n",
    "        # Eliminar datos de las tablas\n",
    "        delete_queries = [\n",
    "            'delete from estudiante_stg where nombre=0;',\n",
    "            'delete from estudiante_stg where edad like\"%Marca%no%registrada%\";',\n",
    "            'delete from estudiante_stg where puntuacion like\"%Categoria%no%registrada%\";',\n",
    "            'delete from estudiante_stg where genero=\"Noid\"'        \n",
    "        ]\n",
    "\n",
    "        for query in delete_queries:\n",
    "            with conexion.cursor() as cursor:\n",
    "                cursor.execute(query)\n",
    "\n",
    "        # Confirmar los cambios\n",
    "        conexion.commit()\n",
    "\n",
    "        print(\"Datos tabla estudiante stg limpiada exitosamente.\")\n",
    "\n",
    "    except Exception as e:\n",
    "        print(f\"Error al limpiar la base de datos: {e}\")\n",
    "\n",
    "    finally:\n",
    "        # Reactivar las restricciones de clave externa\n",
    "        with conexion.cursor() as cursor:\n",
    "            cursor.execute(\"SET FOREIGN_KEY_CHECKS=1;\")"
   ]
  },
  {
   "cell_type": "code",
   "execution_count": 1422,
   "id": "c715017a-c762-4ba3-9450-b7279b70c973",
   "metadata": {},
   "outputs": [
    {
     "name": "stdout",
     "output_type": "stream",
     "text": [
      "Datos tabla estudiante stg limpiada exitosamente.\n"
     ]
    }
   ],
   "source": [
    "limpiar_datos_estudiante_stg(conexion)"
   ]
  },
  {
   "cell_type": "code",
   "execution_count": 1423,
   "id": "17ff5e7e-5636-439e-8f52-4dfbddc337e8",
   "metadata": {},
   "outputs": [],
   "source": [
    "# OBTENER VALORES DISTINTOS Y ASIGNAR A LAS RESPECTIVAS TABLAS \n",
    "\n",
    "def obtener_distinct_values(conexion, column_name):\n",
    "    try:\n",
    "        with conexion.cursor() as cursor:\n",
    "            select_query = f\"SELECT DISTINCT({column_name}) FROM estudiante_stg\"\n",
    "            cursor.execute(select_query)\n",
    "            distinct_values = cursor.fetchall()\n",
    "            print(f\"Datos extraidos correctamente de: {column_name}\")\n",
    "            return tuple(value[0] for value in distinct_values)\n",
    "\n",
    "    except Exception as e:\n",
    "        print(f\"Error al obtener valores distintos: {e}\")\n",
    "        return []"
   ]
  },
  {
   "cell_type": "code",
   "execution_count": 1424,
   "id": "ffee4e25-2196-458c-ba83-f35aec20d828",
   "metadata": {},
   "outputs": [
    {
     "name": "stdout",
     "output_type": "stream",
     "text": [
      "Datos extraidos correctamente de: nombre\n"
     ]
    }
   ],
   "source": [
    "distinct_values_estudiante=obtener_distinct_values(conexion, \"nombre\")"
   ]
  },
  {
   "cell_type": "code",
   "execution_count": 1425,
   "id": "75e073d4-b1be-4f75-9dbc-7888f9e4c288",
   "metadata": {},
   "outputs": [
    {
     "name": "stdout",
     "output_type": "stream",
     "text": [
      "Datos extraidos correctamente de: edad\n"
     ]
    }
   ],
   "source": [
    "distinct_values_edad=obtener_distinct_values(conexion, \"edad\")"
   ]
  },
  {
   "cell_type": "code",
   "execution_count": 1426,
   "id": "9965897e-265a-4917-8808-e538fe063cff",
   "metadata": {},
   "outputs": [
    {
     "name": "stdout",
     "output_type": "stream",
     "text": [
      "Datos extraidos correctamente de: puntuacion\n"
     ]
    }
   ],
   "source": [
    "distinct_values_puntuacion=obtener_distinct_values(conexion, \"puntuacion\")"
   ]
  },
  {
   "cell_type": "code",
   "execution_count": 1427,
   "id": "e711f334-06e4-46a3-b3ed-2e12ef546f1e",
   "metadata": {},
   "outputs": [
    {
     "name": "stdout",
     "output_type": "stream",
     "text": [
      "Datos extraidos correctamente de: genero\n"
     ]
    }
   ],
   "source": [
    "distinct_values_genero=obtener_distinct_values(conexion, \"genero\")"
   ]
  },
  {
   "cell_type": "code",
   "execution_count": 1428,
   "id": "cdc2e5b6-2d4d-4c7a-acd7-0724a683bc82",
   "metadata": {},
   "outputs": [],
   "source": [
    "# INSERTAR DATOS EXTRAIDOS EN LAS RESPECTIVAS TABLAS DE LA BASE DE DATOS\n",
    "\n",
    "def insert_distinct_values_into_table(conexion, distinct_values, table_name, column_name):\n",
    "        try:\n",
    "            with conexion.cursor() as cursor:\n",
    "                insert_query = f\"INSERT INTO {table_name} ({column_name}) VALUES (%s)\"\n",
    "                for value in distinct_values:\n",
    "                    cursor.execute(insert_query, (value,))\n",
    "\n",
    "                conexion.commit()\n",
    "                print(f\"Datos insertados correctamente en {table_name}.\")\n",
    "\n",
    "        except Exception as e:\n",
    "            print(f\"Error al insertar datos en {table_name}: {e}\")  "
   ]
  },
  {
   "cell_type": "code",
   "execution_count": 1429,
   "id": "a3eb5902-aa39-4a6e-9ae9-b196a0c1c644",
   "metadata": {},
   "outputs": [
    {
     "name": "stdout",
     "output_type": "stream",
     "text": [
      "Datos insertados correctamente en genero.\n"
     ]
    }
   ],
   "source": [
    "insert_distinct_values_into_table(conexion, distinct_values_generos, \"genero\",\"descripcion_genero\")"
   ]
  },
  {
   "cell_type": "code",
   "execution_count": 1460,
   "id": "a66d2326-76b0-428d-8804-3ce7325f08e7",
   "metadata": {},
   "outputs": [],
   "source": [
    "def obtener_valores_estudiante(conexion):\n",
    "    try:\n",
    "        with conexion.cursor() as cursor:\n",
    "            select_query = '''\n",
    "            SELECT estudiante.genero, genero.id_genero\n",
    "            FROM genero\n",
    "            INNER JOIN estudiante ON estudiante.genero = genero.descripcion_genero\n",
    "            '''\n",
    "            cursor.execute(select_query)\n",
    "            values = cursor.fetchall()\n",
    "            return tuple(values)\n",
    "\n",
    "    except Exception as e:\n",
    "        print(f\"Error al obtener valores distintos: {e}\")\n",
    "        return []\n"
   ]
  },
  {
   "cell_type": "code",
   "execution_count": 1461,
   "id": "7a8949c5-5c57-49e9-9cfc-9130c646a69a",
   "metadata": {},
   "outputs": [],
   "source": [
    "valores=obtener_valores_estudiante(conexion)"
   ]
  },
  {
   "cell_type": "code",
   "execution_count": 1458,
   "id": "57c369a4-345c-41fa-a2a3-3baffcb6759c",
   "metadata": {},
   "outputs": [],
   "source": [
    "# INSERTAR DATOS EN LA TABLA ESTUDIANTE\n",
    "\n",
    "def insert_estudiante(conexion, df):\n",
    "    cursor = conexion.cursor()\n",
    "\n",
    "    insert_query = \"INSERT INTO estudiante(Nombre,Edad,Puntuacion,Genero) VALUES (%s, %s, %s, %s)\"\n",
    "\n",
    "    try:\n",
    "        for index, row in df.iterrows():\n",
    "            estudiante_data = (row['Nombre'], row['Edad'], row['Puntuacion'], row['Sexo'])\n",
    "            cursor.execute(insert_query, estudiante_data)\n",
    "\n",
    "        conexion.commit()\n",
    "        print(f\"Datos insertados correctamente\")\n",
    "\n",
    "    except Exception as e:\n",
    "        print(f\"Error al insertar datos: {e}\")\n",
    "\n",
    "    finally:\n",
    "        cursor.close()"
   ]
  },
  {
   "cell_type": "code",
   "execution_count": 1459,
   "id": "29b65ff9-6203-46af-b288-83517bd11204",
   "metadata": {},
   "outputs": [
    {
     "name": "stdout",
     "output_type": "stream",
     "text": [
      "Datos insertados correctamente\n"
     ]
    }
   ],
   "source": [
    "insert_estudiante(conexion, df)"
   ]
  },
  {
   "cell_type": "code",
   "execution_count": null,
   "id": "63b47e64-c2c8-49e2-9533-e2f6e2b6de27",
   "metadata": {},
   "outputs": [],
   "source": []
  }
 ],
 "metadata": {
  "kernelspec": {
   "display_name": "Python 3 (ipykernel)",
   "language": "python",
   "name": "python3"
  },
  "language_info": {
   "codemirror_mode": {
    "name": "ipython",
    "version": 3
   },
   "file_extension": ".py",
   "mimetype": "text/x-python",
   "name": "python",
   "nbconvert_exporter": "python",
   "pygments_lexer": "ipython3",
   "version": "3.11.7"
  }
 },
 "nbformat": 4,
 "nbformat_minor": 5
}
